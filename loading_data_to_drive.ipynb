{
  "nbformat": 4,
  "nbformat_minor": 0,
  "metadata": {
    "colab": {
      "name": "loading_data_to_drive.ipynb",
      "provenance": [],
      "collapsed_sections": []
    },
    "kernelspec": {
      "name": "python3",
      "display_name": "Python 3"
    }
  },
  "cells": [
    {
      "cell_type": "code",
      "metadata": {
        "id": "lIUJxE0scjSr",
        "colab_type": "code",
        "colab": {
          "base_uri": "https://localhost:8080/",
          "height": 124
        },
        "outputId": "1cb5464d-f559-4312-edab-add1d4ecbc12"
      },
      "source": [
        "from google.colab import drive \n",
        "\n",
        "drive.mount('/content/RSI_Keylogger')"
      ],
      "execution_count": null,
      "outputs": [
        {
          "output_type": "stream",
          "text": [
            "Go to this URL in a browser: https://accounts.google.com/o/oauth2/auth?client_id=947318989803-6bn6qk8qdgf4n4g3pfee6491hc0brc4i.apps.googleusercontent.com&redirect_uri=urn%3aietf%3awg%3aoauth%3a2.0%3aoob&response_type=code&scope=email%20https%3a%2f%2fwww.googleapis.com%2fauth%2fdocs.test%20https%3a%2f%2fwww.googleapis.com%2fauth%2fdrive%20https%3a%2f%2fwww.googleapis.com%2fauth%2fdrive.photos.readonly%20https%3a%2f%2fwww.googleapis.com%2fauth%2fpeopleapi.readonly\n",
            "\n",
            "Enter your authorization code:\n",
            "··········\n",
            "Mounted at /content/RSI_Keylogger\n"
          ],
          "name": "stdout"
        }
      ]
    },
    {
      "cell_type": "markdown",
      "metadata": {
        "id": "W8ywZA3kDhfm",
        "colab_type": "text"
      },
      "source": [
        "This part of the program mounts our google drive, RSI_Keylogger, onto Google Colab, which allows us to integrate all the necessary files into Google Drive itself"
      ]
    },
    {
      "cell_type": "code",
      "metadata": {
        "id": "I1ecgl4MwyBN",
        "colab_type": "code",
        "colab": {
          "base_uri": "https://localhost:8080/",
          "height": 34
        },
        "outputId": "b8054dad-cd8f-49d0-dca2-ee9ce067f41f"
      },
      "source": [
        "%cd '/content'"
      ],
      "execution_count": null,
      "outputs": [
        {
          "output_type": "stream",
          "text": [
            "/content\n"
          ],
          "name": "stdout"
        }
      ]
    },
    {
      "cell_type": "code",
      "metadata": {
        "id": "KINVLP3Icu5N",
        "colab_type": "code",
        "colab": {
          "base_uri": "https://localhost:8080/",
          "height": 990
        },
        "outputId": "707b4c0f-7a87-490c-a87e-3bfa93b37eab"
      },
      "source": [
        "!wget -r -N -c -np https://physionet.org/files/tappy/1.0.0/"
      ],
      "execution_count": null,
      "outputs": [
        {
          "output_type": "stream",
          "text": [
            "--2020-06-23 13:12:35--  https://physionet.org/files/tappy/1.0.0/\n",
            "Resolving physionet.org (physionet.org)... 18.13.52.205\n",
            "Connecting to physionet.org (physionet.org)|18.13.52.205|:443... connected.\n",
            "HTTP request sent, awaiting response... 200 OK\n",
            "Length: unspecified [text/html]\n",
            "Saving to: ‘physionet.org/files/tappy/1.0.0/index.html’\n",
            "\n",
            "\r          physionet     [<=>                 ]       0  --.-KB/s               \rphysionet.org/files     [ <=>                ]     591  --.-KB/s    in 0s      \n",
            "\n",
            "Last-modified header missing -- time-stamps turned off.\n",
            "2020-06-23 13:12:36 (45.3 MB/s) - ‘physionet.org/files/tappy/1.0.0/index.html’ saved [591]\n",
            "\n",
            "Loading robots.txt; please ignore errors.\n",
            "--2020-06-23 13:12:36--  https://physionet.org/robots.txt\n",
            "Reusing existing connection to physionet.org:443.\n",
            "HTTP request sent, awaiting response... 200 OK\n",
            "Length: 22 [text/plain]\n",
            "Saving to: ‘physionet.org/robots.txt’\n",
            "\n",
            "\rphysionet.org/robot   0%[                    ]       0  --.-KB/s               \rphysionet.org/robot 100%[===================>]      22  --.-KB/s    in 0s      \n",
            "\n",
            "2020-06-23 13:12:36 (4.09 MB/s) - ‘physionet.org/robots.txt’ saved [22/22]\n",
            "\n",
            "--2020-06-23 13:12:36--  https://physionet.org/files/tappy/1.0.0/Archived-Data.zip\n",
            "Reusing existing connection to physionet.org:443.\n",
            "HTTP request sent, awaiting response... 200 OK\n",
            "Length: 89176393 (85M) [application/zip]\n",
            "Saving to: ‘physionet.org/files/tappy/1.0.0/Archived-Data.zip’\n",
            "\n",
            "physionet.org/files 100%[===================>]  85.04M  30.5MB/s    in 2.8s    \n",
            "\n",
            "2020-06-23 13:12:39 (30.5 MB/s) - ‘physionet.org/files/tappy/1.0.0/Archived-Data.zip’ saved [89176393/89176393]\n",
            "\n",
            "--2020-06-23 13:12:39--  https://physionet.org/files/tappy/1.0.0/Archived-users.zip\n",
            "Reusing existing connection to physionet.org:443.\n",
            "HTTP request sent, awaiting response... 200 OK\n",
            "Length: 73032 (71K) [application/zip]\n",
            "Saving to: ‘physionet.org/files/tappy/1.0.0/Archived-users.zip’\n",
            "\n",
            "physionet.org/files 100%[===================>]  71.32K  --.-KB/s    in 0.001s  \n",
            "\n",
            "2020-06-23 13:12:39 (129 MB/s) - ‘physionet.org/files/tappy/1.0.0/Archived-users.zip’ saved [73032/73032]\n",
            "\n",
            "--2020-06-23 13:12:39--  https://physionet.org/files/tappy/1.0.0/SHA256SUMS.txt\n",
            "Reusing existing connection to physionet.org:443.\n",
            "HTTP request sent, awaiting response... 200 OK\n",
            "Length: 167 [text/plain]\n",
            "Saving to: ‘physionet.org/files/tappy/1.0.0/SHA256SUMS.txt’\n",
            "\n",
            "physionet.org/files 100%[===================>]     167  --.-KB/s    in 0s      \n",
            "\n",
            "2020-06-23 13:12:39 (21.6 MB/s) - ‘physionet.org/files/tappy/1.0.0/SHA256SUMS.txt’ saved [167/167]\n",
            "\n",
            "FINISHED --2020-06-23 13:12:39--\n",
            "Total wall clock time: 3.7s\n",
            "Downloaded: 5 files, 85M in 2.8s (30.5 MB/s)\n"
          ],
          "name": "stdout"
        }
      ]
    },
    {
      "cell_type": "markdown",
      "metadata": {
        "id": "hV1nrfJjEHd-",
        "colab_type": "text"
      },
      "source": [
        "Using the `!wget` command, we retrive and download the Parkinson's Data we need to analyse"
      ]
    },
    {
      "cell_type": "code",
      "metadata": {
        "id": "sR6sOFrXdAB0",
        "colab_type": "code",
        "colab": {
          "base_uri": "https://localhost:8080/",
          "height": 1000
        },
        "outputId": "a1aaba14-3576-426c-cc20-792fa94ac8be"
      },
      "source": [
        "!unzip physionet.org/files/tappy/1.0.0/Archived-Data.zip\n",
        "!unzip physionet.org/files/tappy/1.0.0/Archived-users.zip"
      ],
      "execution_count": null,
      "outputs": [
        {
          "output_type": "stream",
          "text": [
            "Archive:  physionet.org/files/tappy/1.0.0/Archived-Data.zip\n",
            "   creating: Tappy Data/\n",
            "  inflating: Tappy Data/0EA27ICBLF_1607.txt  \n",
            "  inflating: Tappy Data/0EA27ICBLF_1608.txt  \n",
            "  inflating: Tappy Data/0NMZ9JBBHI_1608.txt  \n",
            "  inflating: Tappy Data/0NMZ9JBBHI_1609.txt  \n",
            "  inflating: Tappy Data/0NMZ9JBBHI_1610.txt  \n",
            "  inflating: Tappy Data/0QAZFRHQHW_1609.txt  \n",
            "  inflating: Tappy Data/0QAZFRHQHW_1610.txt  \n",
            "  inflating: Tappy Data/1BMKGIOSHF_1609.txt  \n",
            "  inflating: Tappy Data/1HOEBIGASW_1702.txt  \n",
            "  inflating: Tappy Data/1XNJCXS3EY_1608.txt  \n",
            "  inflating: Tappy Data/2JTCBKUP8T_1702.txt  \n",
            "  inflating: Tappy Data/2JTCBKUP8T_1703.txt  \n",
            "  inflating: Tappy Data/2X17VCRRQA_1608.txt  \n",
            "  inflating: Tappy Data/310NXPGJPD_1702.txt  \n",
            "  inflating: Tappy Data/310NXPGJPD_1703.txt  \n",
            "  inflating: Tappy Data/39KQRZCESF_1702.txt  \n",
            "  inflating: Tappy Data/39KQRZCESF_1703.txt  \n",
            "  inflating: Tappy Data/3DIXPRIOSW_1701.txt  \n",
            "  inflating: Tappy Data/3DIXPRIOSW_1702.txt  \n",
            "  inflating: Tappy Data/3HYXJCTCNT_1701.txt  \n",
            "  inflating: Tappy Data/3MZWDTW7CC_1609.txt  \n",
            "  inflating: Tappy Data/3MZWDTW7CC_1610.txt  \n",
            "  inflating: Tappy Data/3MZWDTW7CC_1611.txt  \n",
            "  inflating: Tappy Data/3MZWDTW7CC_1612.txt  \n",
            "  inflating: Tappy Data/3MZWDTW7CC_1701.txt  \n",
            "  inflating: Tappy Data/3MZWDTW7CC_1702.txt  \n",
            "  inflating: Tappy Data/48DZPAJ5NS_1607.txt  \n",
            "  inflating: Tappy Data/48DZPAJ5NS_1608.txt  \n",
            "  inflating: Tappy Data/4GUYFBZMK9_1702.txt  \n",
            "  inflating: Tappy Data/4IE6CIRI0V_1607.txt  \n",
            "  inflating: Tappy Data/4XPHKKBXS6_1609.txt  \n",
            "  inflating: Tappy Data/55KMBQR3HH_1608.txt  \n",
            "  inflating: Tappy Data/5ARV4LHEJ0_1609.txt  \n",
            "  inflating: Tappy Data/5ARV4LHEJ0_1610.txt  \n",
            "  inflating: Tappy Data/5ARV4LHEJ0_1611.txt  \n",
            "  inflating: Tappy Data/5ARV4LHEJ0_1612.txt  \n",
            "  inflating: Tappy Data/5PQVTWULAC_1702.txt  \n",
            "  inflating: Tappy Data/5PQVTWULAC_1703.txt  \n",
            "  inflating: Tappy Data/5USOYSDCXB_1702.txt  \n",
            "  inflating: Tappy Data/5YFAPLRCMD_1608.txt  \n",
            "  inflating: Tappy Data/5YFAPLRCMD_1609.txt  \n",
            "  inflating: Tappy Data/6LB9FQABZQ_1609.txt  \n",
            "  inflating: Tappy Data/6LB9FQABZQ_1610.txt  \n",
            "  inflating: Tappy Data/6R9IGYWVWT_1701.txt  \n",
            "  inflating: Tappy Data/6VH7AFDQ32_1702.txt  \n",
            "  inflating: Tappy Data/6WBXSDG5BB_1607.txt  \n",
            "  inflating: Tappy Data/6WBXSDG5BB_1608.txt  \n",
            "  inflating: Tappy Data/6WBXSDG5BB_1609.txt  \n",
            "  inflating: Tappy Data/6WBXSDG5BB_1610.txt  \n",
            "  inflating: Tappy Data/6WBXSDG5BB_1611.txt  \n",
            "  inflating: Tappy Data/6WBXSDG5BB_1612.txt  \n",
            "  inflating: Tappy Data/6WBXSDG5BB_1701.txt  \n",
            "  inflating: Tappy Data/6WBXSDG5BB_1702.txt  \n",
            "  inflating: Tappy Data/6YXFEMHYZI_1703.txt  \n",
            "  inflating: Tappy Data/7HTEQAAWWO_1702.txt  \n",
            "  inflating: Tappy Data/7OIX84KINL_1606.txt  \n",
            "  inflating: Tappy Data/7OIX84KINL_1607.txt  \n",
            "  inflating: Tappy Data/7QVQD5IJEH_1703.txt  \n",
            "  inflating: Tappy Data/7XS9VOLXWU_1609.txt  \n",
            "  inflating: Tappy Data/7XS9VOLXWU_1610.txt  \n",
            "  inflating: Tappy Data/81NEUZEBXI_1608.txt  \n",
            "  inflating: Tappy Data/81NEUZEBXI_1609.txt  \n",
            "  inflating: Tappy Data/81NEUZEBXI_1610.txt  \n",
            "  inflating: Tappy Data/81NEUZEBXI_1611.txt  \n",
            "  inflating: Tappy Data/81NEUZEBXI_1612.txt  \n",
            "  inflating: Tappy Data/81NEUZEBXI_1701.txt  \n",
            "  inflating: Tappy Data/81NEUZEBXI_1702.txt  \n",
            "  inflating: Tappy Data/8EY6NZAKCI_1608.txt  \n",
            "  inflating: Tappy Data/8EY6NZAKCI_1609.txt  \n",
            "  inflating: Tappy Data/8EY6NZAKCI_1610.txt  \n",
            "  inflating: Tappy Data/8EY6NZAKCI_1611.txt  \n",
            "  inflating: Tappy Data/8EY6NZAKCI_1612.txt  \n",
            "  inflating: Tappy Data/8EY6NZAKCI_1701.txt  \n",
            "  inflating: Tappy Data/8EY6NZAKCI_1702.txt  \n",
            "  inflating: Tappy Data/8EY6NZAKCI_1703.txt  \n",
            "  inflating: Tappy Data/8MERXVINPN_1702.txt  \n",
            "  inflating: Tappy Data/8MERXVINPN_1703.txt  \n",
            "  inflating: Tappy Data/8O9IAIA9L1_1609.txt  \n",
            "  inflating: Tappy Data/8TEUUGQBYB_1608.txt  \n",
            "  inflating: Tappy Data/8TEUUGQBYB_1609.txt  \n",
            "  inflating: Tappy Data/8TEUUGQBYB_1610.txt  \n",
            "  inflating: Tappy Data/8TEUUGQBYB_1611.txt  \n",
            "  inflating: Tappy Data/8TEUUGQBYB_1612.txt  \n",
            "  inflating: Tappy Data/927ZLCPEJM_1608.txt  \n",
            "  inflating: Tappy Data/927ZLCPEJM_1609.txt  \n",
            "  inflating: Tappy Data/927ZLCPEJM_1610.txt  \n",
            "  inflating: Tappy Data/927ZLCPEJM_1611.txt  \n",
            "  inflating: Tappy Data/927ZLCPEJM_1612.txt  \n",
            "  inflating: Tappy Data/927ZLCPEJM_1701.txt  \n",
            "  inflating: Tappy Data/927ZLCPEJM_1702.txt  \n",
            "  inflating: Tappy Data/927ZLCPEJM_1703.txt  \n",
            "  inflating: Tappy Data/95S93AXF86_1701.txt  \n",
            "  inflating: Tappy Data/95S93AXF86_1702.txt  \n",
            "  inflating: Tappy Data/95S93AXF86_1703.txt  \n",
            "  inflating: Tappy Data/9ALACHPPUR_1702.txt  \n",
            "  inflating: Tappy Data/9GBSZXI2BB_1701.txt  \n",
            "  inflating: Tappy Data/9GBSZXI2BB_1702.txt  \n",
            "  inflating: Tappy Data/9GBSZXI2BB_1703.txt  \n",
            "  inflating: Tappy Data/9IA0YLPHU2_1609.txt  \n",
            "  inflating: Tappy Data/9JRHCGCWAZ_1702.txt  \n",
            "  inflating: Tappy Data/9JRHCGCWAZ_1703.txt  \n",
            "  inflating: Tappy Data/9RCEHVGNCJ_1702.txt  \n",
            "  inflating: Tappy Data/9RCEHVGNCJ_1703.txt  \n",
            "  inflating: Tappy Data/9TUXDIR9EE_1606.txt  \n",
            "  inflating: Tappy Data/9ZRBC5WOZR_1702.txt  \n",
            "  inflating: Tappy Data/A0K1FZANZN_1606.txt  \n",
            "  inflating: Tappy Data/ACSKCOJC06_1702.txt  \n",
            "  inflating: Tappy Data/AEKGFUEQUU_1608.txt  \n",
            "  inflating: Tappy Data/AEKGFUEQUU_1609.txt  \n",
            "  inflating: Tappy Data/AFNOZ1KI1M_1608.txt  \n",
            "  inflating: Tappy Data/AFNOZ1KI1M_1609.txt  \n",
            "  inflating: Tappy Data/AFNOZ1KI1M_1610.txt  \n",
            "  inflating: Tappy Data/AFQWSP8ARK_1608.txt  \n",
            "  inflating: Tappy Data/AFQWSP8ARK_1609.txt  \n",
            "  inflating: Tappy Data/AFQWSP8ARK_1610.txt  \n",
            "  inflating: Tappy Data/AFQWSP8ARK_1611.txt  \n",
            "  inflating: Tappy Data/AFQWSP8ARK_1612.txt  \n",
            "  inflating: Tappy Data/AFQWSP8ARK_1701.txt  \n",
            "  inflating: Tappy Data/AFQWSP8ARK_1702.txt  \n",
            "  inflating: Tappy Data/AFQWSP8ARK_1703.txt  \n",
            "  inflating: Tappy Data/AJHHNPKG0K_1608.txt  \n",
            "  inflating: Tappy Data/AJHHNPKG0K_1609.txt  \n",
            "  inflating: Tappy Data/AJHHNPKG0K_1610.txt  \n",
            "  inflating: Tappy Data/AJHHNPKG0K_1611.txt  \n",
            "  inflating: Tappy Data/AJIGSB2YPW_1702.txt  \n",
            "  inflating: Tappy Data/ARUGT4UL2R_1703.txt  \n",
            "  inflating: Tappy Data/ASP8RSNO73_1702.txt  \n",
            "  inflating: Tappy Data/AVNGRDUXE5_1608.txt  \n",
            "  inflating: Tappy Data/AVNGRDUXE5_1609.txt  \n",
            "  inflating: Tappy Data/AXXXXBBCCH_1608.txt  \n",
            "  inflating: Tappy Data/B4NL4SV9ZC_1701.txt  \n",
            "  inflating: Tappy Data/B4NL4SV9ZC_1702.txt  \n",
            "  inflating: Tappy Data/B4NL4SV9ZC_1703.txt  \n",
            "  inflating: Tappy Data/BBCWCBNBPR_1702.txt  \n",
            "  inflating: Tappy Data/BBCWCBNBPR_1703.txt  \n",
            "  inflating: Tappy Data/BENXJNDSC4_1608.txt  \n",
            "  inflating: Tappy Data/BFXNVL50DC_1607.txt  \n",
            "  inflating: Tappy Data/BFXNVL50DC_1608.txt  \n",
            "  inflating: Tappy Data/BFXNVL50DC_1610.txt  \n",
            "  inflating: Tappy Data/BIGWMXFU3B_1608.txt  \n",
            "  inflating: Tappy Data/BIGWMXFU3B_1609.txt  \n",
            "  inflating: Tappy Data/BZ8MQ2TBMS_1702.txt  \n",
            "  inflating: Tappy Data/C6UGS6P0J0_1609.txt  \n",
            "  inflating: Tappy Data/C6UGS6P0J0_1610.txt  \n",
            "  inflating: Tappy Data/C6UGS6P0J0_1611.txt  \n",
            "  inflating: Tappy Data/CAXCJIKLYM_1607.txt  \n",
            "  inflating: Tappy Data/CAXCJIKLYM_1608.txt  \n",
            "  inflating: Tappy Data/CAXCJIKLYM_1609.txt  \n",
            "  inflating: Tappy Data/CAXCJIKLYM_1610.txt  \n",
            "  inflating: Tappy Data/CAXCJIKLYM_1611.txt  \n",
            "  inflating: Tappy Data/CAXCJIKLYM_1612.txt  \n",
            "  inflating: Tappy Data/CAXCJIKLYM_1701.txt  \n",
            "  inflating: Tappy Data/CAXCJIKLYM_1702.txt  \n",
            "  inflating: Tappy Data/CEU6KM05RU_1702.txt  \n",
            "  inflating: Tappy Data/COK8G1W7JY_1609.txt  \n",
            "  inflating: Tappy Data/COK8G1W7JY_1610.txt  \n",
            "  inflating: Tappy Data/COK8G1W7JY_1611.txt  \n",
            "  inflating: Tappy Data/COK8G1W7JY_1612.txt  \n",
            "  inflating: Tappy Data/COK8G1W7JY_1701.txt  \n",
            "  inflating: Tappy Data/COK8G1W7JY_1702.txt  \n",
            "  inflating: Tappy Data/COK8G1W7JY_1703.txt  \n",
            "  inflating: Tappy Data/CPSM4LIXDS_1701.txt  \n",
            "  inflating: Tappy Data/CPSM4LIXDS_1702.txt  \n",
            "  inflating: Tappy Data/CYC6IZJYTE_1608.txt  \n",
            "  inflating: Tappy Data/CYC6IZJYTE_1609.txt  \n",
            "  inflating: Tappy Data/CYC6IZJYTE_1610.txt  \n",
            "  inflating: Tappy Data/E0TBSMYHQI_1608.txt  \n",
            "  inflating: Tappy Data/E0TBSMYHQI_1609.txt  \n",
            "  inflating: Tappy Data/E0TBSMYHQI_1610.txt  \n",
            "  inflating: Tappy Data/E0TBSMYHQI_1611.txt  \n",
            "  inflating: Tappy Data/E0XRQVF05S_1702.txt  \n",
            "  inflating: Tappy Data/E1E2I8HUGC_1607.txt  \n",
            "  inflating: Tappy Data/E7UA8EHENF_1702.txt  \n",
            "  inflating: Tappy Data/EAGGQIYQYT_1608.txt  \n",
            "  inflating: Tappy Data/EBGLZDVO5S_1609.txt  \n",
            "  inflating: Tappy Data/EF9XEFXPBN_1607.txt  \n",
            "  inflating: Tappy Data/EF9XEFXPBN_1608.txt  \n",
            "  inflating: Tappy Data/EF9XEFXPBN_1609.txt  \n",
            "  inflating: Tappy Data/EF9XEFXPBN_1610.txt  \n",
            "  inflating: Tappy Data/EF9XEFXPBN_1611.txt  \n",
            "  inflating: Tappy Data/EF9XEFXPBN_1612.txt  \n",
            "  inflating: Tappy Data/EF9XEFXPBN_1701.txt  \n",
            "  inflating: Tappy Data/EKG57AN0N6_1702.txt  \n",
            "  inflating: Tappy Data/EKG57AN0N6_1703.txt  \n",
            "  inflating: Tappy Data/EMYGMAIB2L_1701.txt  \n",
            "  inflating: Tappy Data/ERFIZ5O8FM_1608.txt  \n",
            "  inflating: Tappy Data/ERFIZ5O8FM_1609.txt  \n",
            "  inflating: Tappy Data/EX8J9DGRSY_1702.txt  \n",
            "  inflating: Tappy Data/EX8J9DGRSY_1703.txt  \n",
            "  inflating: Tappy Data/EZF9NAHLOU_1609.txt  \n",
            "  inflating: Tappy Data/F56FSV2EP7_1702.txt  \n",
            "  inflating: Tappy Data/F56FSV2EP7_1703.txt  \n",
            "  inflating: Tappy Data/F8KU8UP2SZ_1701.txt  \n",
            "  inflating: Tappy Data/F8KU8UP2SZ_1702.txt  \n",
            "  inflating: Tappy Data/F8KU8UP2SZ_1703.txt  \n",
            "  inflating: Tappy Data/FFNMFHHSZJ_1607.txt  \n",
            "  inflating: Tappy Data/FFNMFHHSZJ_1608.txt  \n",
            "  inflating: Tappy Data/FFNMFHHSZJ_1609.txt  \n",
            "  inflating: Tappy Data/FHEOPKL3QQ_1607.txt  \n",
            "  inflating: Tappy Data/FHEOPKL3QQ_1608.txt  \n",
            "  inflating: Tappy Data/FHEOPKL3QQ_1609.txt  \n",
            "  inflating: Tappy Data/FHEOPKL3QQ_1610.txt  \n",
            "  inflating: Tappy Data/FHEOPKL3QQ_1611.txt  \n",
            "  inflating: Tappy Data/FHEOPKL3QQ_1612.txt  \n",
            "  inflating: Tappy Data/FHEOPKL3QQ_1701.txt  \n",
            "  inflating: Tappy Data/FIWPKLWCT5_1608.txt  \n",
            "  inflating: Tappy Data/FIWPKLWCT5_1609.txt  \n",
            "  inflating: Tappy Data/FIWPKLWCT5_1610.txt  \n",
            "  inflating: Tappy Data/FIWPKLWCT5_1611.txt  \n",
            "  inflating: Tappy Data/FIWPKLWCT5_1612.txt  \n",
            "  inflating: Tappy Data/FIWPKLWCT5_1701.txt  \n",
            "  inflating: Tappy Data/FIWPKLWCT5_1702.txt  \n",
            "  inflating: Tappy Data/FX9KOOZRZL_1701.txt  \n",
            "  inflating: Tappy Data/FXC5YFXZ0K_1609.txt  \n",
            "  inflating: Tappy Data/FXC5YFXZ0K_1610.txt  \n",
            "  inflating: Tappy Data/G6OE5CXQPY_1701.txt  \n",
            "  inflating: Tappy Data/G6OE5CXQPY_1702.txt  \n",
            "  inflating: Tappy Data/G6OE5CXQPY_1703.txt  \n",
            "  inflating: Tappy Data/GDGG19NBH7_1702.txt  \n",
            "  inflating: Tappy Data/GEYWAGTINR_1609.txt  \n",
            "  inflating: Tappy Data/GEYWAGTINR_1610.txt  \n",
            "  inflating: Tappy Data/GEYWAGTINR_1611.txt  \n",
            "  inflating: Tappy Data/GEYWAGTINR_1612.txt  \n",
            "  inflating: Tappy Data/GEYWAGTINR_1701.txt  \n",
            "  inflating: Tappy Data/GEYWAGTINR_1702.txt  \n",
            "  inflating: Tappy Data/GEYWAGTINR_1703.txt  \n",
            "  inflating: Tappy Data/GHRLW1IJRV_1607.txt  \n",
            "  inflating: Tappy Data/GHRLW1IJRV_1608.txt  \n",
            "  inflating: Tappy Data/GHRLW1IJRV_1609.txt  \n",
            "  inflating: Tappy Data/GMCJGJHMZN_1702.txt  \n",
            "  inflating: Tappy Data/GN1CUIPUTJ_1702.txt  \n",
            "  inflating: Tappy Data/GN3N4ZNCV9_1610.txt  \n",
            "  inflating: Tappy Data/GN3N4ZNCV9_1611.txt  \n",
            "  inflating: Tappy Data/GOCJ4TNPII_1606.txt  \n",
            "  inflating: Tappy Data/GRPUBQLE4F_1609.txt  \n",
            "  inflating: Tappy Data/GRPUBQLE4F_1610.txt  \n",
            "  inflating: Tappy Data/GRPUBQLE4F_1611.txt  \n",
            "  inflating: Tappy Data/GRPUBQLE4F_1612.txt  \n",
            "  inflating: Tappy Data/GRPUBQLE4F_1701.txt  \n",
            "  inflating: Tappy Data/GRPUBQLE4F_1702.txt  \n",
            "  inflating: Tappy Data/GRPUBQLE4F_1703.txt  \n",
            "  inflating: Tappy Data/GUDRVXO6RX_1609.txt  \n",
            "  inflating: Tappy Data/H08AW2YBAJ_1608.txt  \n",
            "  inflating: Tappy Data/HAEZ2A3NM5_1607.txt  \n",
            "  inflating: Tappy Data/HB2JCE24IE_1608.txt  \n",
            "  inflating: Tappy Data/HB2JCE24IE_1609.txt  \n",
            "  inflating: Tappy Data/HQGUVYLVZH_1702.txt  \n",
            "  inflating: Tappy Data/HSOCXZDCZM_1702.txt  \n",
            "  inflating: Tappy Data/HVSWQYNG2N_1702.txt  \n",
            "  inflating: Tappy Data/HYGNDIWHSC_1609.txt  \n",
            "  inflating: Tappy Data/I3U47MF5UF_1608.txt  \n",
            "  inflating: Tappy Data/ICXFP2WKAU_1607.txt  \n",
            "  inflating: Tappy Data/IDYIDJBAXF_1607.txt  \n",
            "  inflating: Tappy Data/IDYIDJBAXF_1608.txt  \n",
            "  inflating: Tappy Data/IDYIDJBAXF_1609.txt  \n",
            "  inflating: Tappy Data/IDYIDJBAXF_1610.txt  \n",
            "  inflating: Tappy Data/IDYIDJBAXF_1611.txt  \n",
            "  inflating: Tappy Data/IDYIDJBAXF_1612.txt  \n",
            "  inflating: Tappy Data/IDYIDJBAXF_1701.txt  \n",
            "  inflating: Tappy Data/IDYIDJBAXF_1702.txt  \n",
            "  inflating: Tappy Data/IDZHIUK2W2_1609.txt  \n",
            "  inflating: Tappy Data/IDZHIUK2W2_1610.txt  \n",
            "  inflating: Tappy Data/IDZHIUK2W2_1611.txt  \n",
            "  inflating: Tappy Data/ITWTZ5F3VW_1607.txt  \n",
            "  inflating: Tappy Data/ITWTZ5F3VW_1608.txt  \n",
            "  inflating: Tappy Data/ITWTZ5F3VW_1609.txt  \n",
            "  inflating: Tappy Data/IZBOYJGXXB_1608.txt  \n",
            "  inflating: Tappy Data/IZBOYJGXXB_1609.txt  \n",
            "  inflating: Tappy Data/IZBOYJGXXB_1610.txt  \n",
            "  inflating: Tappy Data/IZBOYJGXXB_1611.txt  \n",
            "  inflating: Tappy Data/IZBOYJGXXB_1612.txt  \n",
            "  inflating: Tappy Data/IZBOYJGXXB_1701.txt  \n",
            "  inflating: Tappy Data/IZBOYJGXXB_1702.txt  \n",
            "  inflating: Tappy Data/J3QZ0MCD1Y_1702.txt  \n",
            "  inflating: Tappy Data/J3QZ0MCD1Y_1703.txt  \n",
            "  inflating: Tappy Data/JDWYGP605O_1609.txt  \n",
            "  inflating: Tappy Data/JHBOKKHOQW_1609.txt  \n",
            "  inflating: Tappy Data/JHBOKKHOQW_1610.txt  \n",
            "  inflating: Tappy Data/JHBOKKHOQW_1611.txt  \n",
            "  inflating: Tappy Data/JHBOKKHOQW_1612.txt  \n",
            "  inflating: Tappy Data/JIRZDKEJQN_1701.txt  \n",
            "  inflating: Tappy Data/JMIVIRFQRR_1607.txt  \n",
            "  inflating: Tappy Data/JMIVIRFQRR_1608.txt  \n",
            "  inflating: Tappy Data/JMIVIRFQRR_1609.txt  \n",
            "  inflating: Tappy Data/JMIVIRFQRR_1610.txt  \n",
            "  inflating: Tappy Data/JMYZ5IKGWE_1701.txt  \n",
            "  inflating: Tappy Data/JMYZ5IKGWE_1702.txt  \n",
            "  inflating: Tappy Data/JQ0YSY0AYO_1607.txt  \n",
            "  inflating: Tappy Data/JWGIQXYUDJ_1608.txt  \n",
            "  inflating: Tappy Data/JWGIQXYUDJ_1609.txt  \n",
            "  inflating: Tappy Data/JZVDCNBT1S_1702.txt  \n",
            "  inflating: Tappy Data/JZVDCNBT1S_1703.txt  \n",
            "  inflating: Tappy Data/K2VMDST8HC_1609.txt  \n",
            "  inflating: Tappy Data/K2VMDST8HC_1610.txt  \n",
            "  inflating: Tappy Data/KE21ILBSOI_1702.txt  \n",
            "  inflating: Tappy Data/KEWWVGP2NM_1608.txt  \n",
            "  inflating: Tappy Data/KKTY9PC9XM_1702.txt  \n",
            "  inflating: Tappy Data/KLM4CVXNRB_1702.txt  \n",
            "  inflating: Tappy Data/KRJVEQSLL5_1702.txt  \n",
            "  inflating: Tappy Data/KRJVEQSLL5_1703.txt  \n",
            "  inflating: Tappy Data/KTUVFFSLN4_1609.txt  \n",
            "  inflating: Tappy Data/L2GM3QU5IO_1608.txt  \n",
            "  inflating: Tappy Data/L7Q0BDRZ9C_1703.txt  \n",
            "  inflating: Tappy Data/L7Q16SJ7KP_1612.txt  \n",
            "  inflating: Tappy Data/L9ULZGDITG_1609.txt  \n",
            "  inflating: Tappy Data/LA6KW35OXK_1606.txt  \n",
            "  inflating: Tappy Data/LA6KW35OXK_1607.txt  \n",
            "  inflating: Tappy Data/LA6KW35OXK_1608.txt  \n",
            "  inflating: Tappy Data/LA6KW35OXK_1609.txt  \n",
            "  inflating: Tappy Data/LA6KW35OXK_1610.txt  \n",
            "  inflating: Tappy Data/LA6KW35OXK_1611.txt  \n",
            "  inflating: Tappy Data/LA6KW35OXK_1612.txt  \n",
            "  inflating: Tappy Data/LA6KW35OXK_1701.txt  \n",
            "  inflating: Tappy Data/LA6KW35OXK_1702.txt  \n",
            "  inflating: Tappy Data/LEFLOMUTBN_1609.txt  \n",
            "  inflating: Tappy Data/LFKWFNOFEM_1702.txt  \n",
            "  inflating: Tappy Data/LFKWFNOFEM_1703.txt  \n",
            "  inflating: Tappy Data/LIOUUNGQ8Q_1701.txt  \n",
            "  inflating: Tappy Data/LIOUUNGQ8Q_1702.txt  \n",
            "  inflating: Tappy Data/LIOUUNGQ8Q_1703.txt  \n",
            "  inflating: Tappy Data/LIPRETG9WY_1608.txt  \n",
            "  inflating: Tappy Data/LKR3NUMIFS_1609.txt  \n",
            "  inflating: Tappy Data/LKR3NUMIFS_1610.txt  \n",
            "  inflating: Tappy Data/LKR3NUMIFS_1611.txt  \n",
            "  inflating: Tappy Data/LKR3NUMIFS_1612.txt  \n",
            "  inflating: Tappy Data/LKR3NUMIFS_1701.txt  \n",
            "  inflating: Tappy Data/LKYPMARSKU_1702.txt  \n",
            "  inflating: Tappy Data/LKYPMARSKU_1703.txt  \n",
            "  inflating: Tappy Data/LSQWWDXEYO_1607.txt  \n",
            "  inflating: Tappy Data/LSQWWDXEYO_1608.txt  \n",
            "  inflating: Tappy Data/LSQWWDXEYO_1609.txt  \n",
            "  inflating: Tappy Data/LSQWWDXEYO_1610.txt  \n",
            "  inflating: Tappy Data/LSQWWDXEYO_1611.txt  \n",
            "  inflating: Tappy Data/LSQWWDXEYO_1612.txt  \n",
            "  inflating: Tappy Data/LVRTXTCS1Z_1608.txt  \n",
            "  inflating: Tappy Data/LVRTXTCS1Z_1609.txt  \n",
            "  inflating: Tappy Data/LVRTXTCS1Z_1610.txt  \n",
            "  inflating: Tappy Data/M0MTCXU0MH_1608.txt  \n",
            "  inflating: Tappy Data/M0MTCXU0MH_1609.txt  \n",
            "  inflating: Tappy Data/M0MTCXU0MH_1610.txt  \n",
            "  inflating: Tappy Data/M0MTCXU0MH_1611.txt  \n",
            "  inflating: Tappy Data/M0PBVLISCF_1608.txt  \n",
            "  inflating: Tappy Data/M4ARHBY168_1609.txt  \n",
            "  inflating: Tappy Data/M4ARHBY168_1610.txt  \n",
            "  inflating: Tappy Data/M4ARHBY168_1611.txt  \n",
            "  inflating: Tappy Data/M4ARHBY168_1612.txt  \n",
            "  inflating: Tappy Data/M4ARHBY168_1701.txt  \n",
            "  inflating: Tappy Data/M6MUS5WY6N_1607.txt  \n",
            "  inflating: Tappy Data/MDL9KS0SFL_1701.txt  \n",
            "  inflating: Tappy Data/MDL9KS0SFL_1702.txt  \n",
            "  inflating: Tappy Data/MDL9KS0SFL_1703.txt  \n",
            "  inflating: Tappy Data/MFAQFDW3IH_1702.txt  \n",
            "  inflating: Tappy Data/MG8XVA5BFA_1608.txt  \n",
            "  inflating: Tappy Data/MG8XVA5BFA_1609.txt  \n",
            "  inflating: Tappy Data/MG8XVA5BFA_1610.txt  \n",
            "  inflating: Tappy Data/MG8XVA5BFA_1611.txt  \n",
            "  inflating: Tappy Data/MNMBCKNAAS_1701.txt  \n",
            "  inflating: Tappy Data/MQ6HDDONF0_1701.txt  \n",
            "  inflating: Tappy Data/MQJBGHOEXP_1701.txt  \n",
            "  inflating: Tappy Data/NBISCUWYGS_1701.txt  \n",
            "  inflating: Tappy Data/NBISCUWYGS_1702.txt  \n",
            "  inflating: Tappy Data/NCHCW5MTBJ_1703.txt  \n",
            "  inflating: Tappy Data/NKKUDKDMGQ_1609.txt  \n",
            "  inflating: Tappy Data/NMKZDOICAB_1609.txt  \n",
            "  inflating: Tappy Data/NMMGWRY6SO_1701.txt  \n",
            "  inflating: Tappy Data/NMMGWRY6SO_1702.txt  \n",
            "  inflating: Tappy Data/NMMGWRY6SO_1703.txt  \n",
            "  inflating: Tappy Data/NPACI6EW26_1606.txt  \n",
            "  inflating: Tappy Data/NPACI6EW26_1607.txt  \n",
            "  inflating: Tappy Data/NPACI6EW26_1608.txt  \n",
            "  inflating: Tappy Data/NPACI6EW26_1609.txt  \n",
            "  inflating: Tappy Data/NPACI6EW26_1610.txt  \n",
            "  inflating: Tappy Data/NPACI6EW26_1611.txt  \n",
            "  inflating: Tappy Data/NPACI6EW26_1612.txt  \n",
            "  inflating: Tappy Data/NPACI6EW26_1701.txt  \n",
            "  inflating: Tappy Data/NPACI6EW26_1702.txt  \n",
            "  inflating: Tappy Data/NSYGJALQVO_1608.txt  \n",
            "  inflating: Tappy Data/O0L3RD63QP_1701.txt  \n",
            "  inflating: Tappy Data/O0L3RD63QP_1702.txt  \n",
            "  inflating: Tappy Data/O0L3RD63QP_1703.txt  \n",
            "  inflating: Tappy Data/OAXZCZWN7W_1703.txt  \n",
            "  inflating: Tappy Data/OMCPRWYBSQ_1609.txt  \n",
            "  inflating: Tappy Data/OMCPRWYBSQ_1610.txt  \n",
            "  inflating: Tappy Data/OMCPRWYBSQ_1702.txt  \n",
            "  inflating: Tappy Data/OTUYARXZX2_1702.txt  \n",
            "  inflating: Tappy Data/P8HEQZSYJN_1702.txt  \n",
            "  inflating: Tappy Data/PESPWEVTGF_1608.txt  \n",
            "  inflating: Tappy Data/PHOPRDDRXM_1609.txt  \n",
            "  inflating: Tappy Data/PJRIZQJMKO_1701.txt  \n",
            "  inflating: Tappy Data/PJU53Y7KVB_1608.txt  \n",
            "  inflating: Tappy Data/PRG54RZY7X_1702.txt  \n",
            "  inflating: Tappy Data/PRG54RZY7X_1703.txt  \n",
            "  inflating: Tappy Data/PRGWGP1WH4_1609.txt  \n",
            "  inflating: Tappy Data/PRGWGP1WH4_1610.txt  \n",
            "  inflating: Tappy Data/PRGWGP1WH4_1611.txt  \n",
            "  inflating: Tappy Data/PRGWGP1WH4_1612.txt  \n",
            "  inflating: Tappy Data/PRGWGP1WH4_1701.txt  \n",
            "  inflating: Tappy Data/PRGWGP1WH4_1702.txt  \n",
            "  inflating: Tappy Data/PVADT62JUM_1607.txt  \n",
            "  inflating: Tappy Data/PVADT62JUM_1608.txt  \n",
            "  inflating: Tappy Data/PW8A521Y5K_1608.txt  \n",
            "  inflating: Tappy Data/PWXIPGSKEF_1608.txt  \n",
            "  inflating: Tappy Data/PWXIPGSKEF_1609.txt  \n",
            "  inflating: Tappy Data/Q6MXNH0MGM_1608.txt  \n",
            "  inflating: Tappy Data/QAH9IVALVC_1608.txt  \n",
            "  inflating: Tappy Data/QAH9IVALVC_1609.txt  \n",
            "  inflating: Tappy Data/QAH9IVALVC_1610.txt  \n",
            "  inflating: Tappy Data/QAH9IVALVC_1611.txt  \n",
            "  inflating: Tappy Data/QAH9IVALVC_1612.txt  \n",
            "  inflating: Tappy Data/QAH9IVALVC_1701.txt  \n",
            "  inflating: Tappy Data/QAH9IVALVC_1702.txt  \n",
            "  inflating: Tappy Data/QAH9IVALVC_1703.txt  \n",
            "  inflating: Tappy Data/QCFNDCZPQH_1701.txt  \n",
            "  inflating: Tappy Data/QCFNDCZPQH_1702.txt  \n",
            "  inflating: Tappy Data/QCFNDCZPQH_1703.txt  \n",
            "  inflating: Tappy Data/QDV7XQWLI7_1703.txt  \n",
            "  inflating: Tappy Data/QEYMRM1ZSM_1607.txt  \n",
            "  inflating: Tappy Data/QEYMRM1ZSM_1608.txt  \n",
            "  inflating: Tappy Data/QEYMRM1ZSM_1609.txt  \n",
            "  inflating: Tappy Data/QEYMRM1ZSM_1610.txt  \n",
            "  inflating: Tappy Data/QEYMRM1ZSM_1611.txt  \n",
            "  inflating: Tappy Data/QEYNMBJ8T0_1702.txt  \n",
            "  inflating: Tappy Data/QEYNMBJ8T0_1703.txt  \n",
            "  inflating: Tappy Data/QPEDAXESTL_1609.txt  \n",
            "  inflating: Tappy Data/QPRYN1F9BZ_1701.txt  \n",
            "  inflating: Tappy Data/QXLSWXKHEX_1608.txt  \n",
            "  inflating: Tappy Data/QXLSWXKHEX_1609.txt  \n",
            "  inflating: Tappy Data/QXLSWXKHEX_1610.txt  \n",
            "  inflating: Tappy Data/QXLSWXKHEX_1611.txt  \n",
            "  inflating: Tappy Data/QXLSWXKHEX_1612.txt  \n",
            "  inflating: Tappy Data/R3OKI24Z0Q_1701.txt  \n",
            "  inflating: Tappy Data/R3OKI24Z0Q_1702.txt  \n",
            "  inflating: Tappy Data/R3OKI24Z0Q_1703.txt  \n",
            "  inflating: Tappy Data/R8CJDKFQJZ_1701.txt  \n",
            "  inflating: Tappy Data/R8CJDKFQJZ_1702.txt  \n",
            "  inflating: Tappy Data/R8CJDKFQJZ_1703.txt  \n",
            "  inflating: Tappy Data/RDJHNZGQL2_1609.txt  \n",
            "  inflating: Tappy Data/RDJHNZGQL2_1610.txt  \n",
            "  inflating: Tappy Data/RDJPGMWKAG_1701.txt  \n",
            "  inflating: Tappy Data/RTBOZILJFT_1701.txt  \n",
            "  inflating: Tappy Data/RWPUNZZ3EF_1703.txt  \n",
            "  inflating: Tappy Data/RWQHSVOUGI_1702.txt  \n",
            "  inflating: Tappy Data/RWQHSVOUGI_1703.txt  \n",
            "  inflating: Tappy Data/RYQGAPGNAM_1702.txt  \n",
            "  inflating: Tappy Data/RYQGAPGNAM_1703.txt  \n",
            "  inflating: Tappy Data/S0YGDLIF9V_1702.txt  \n",
            "  inflating: Tappy Data/S0YGDLIF9V_1703.txt  \n",
            "  inflating: Tappy Data/S5FSMHZEYI_1702.txt  \n",
            "  inflating: Tappy Data/S8Y5T8RWZ4_1608.txt  \n",
            "  inflating: Tappy Data/S9C3TTX3NE_1609.txt  \n",
            "  inflating: Tappy Data/SDZPQV3VZ1_1608.txt  \n",
            "  inflating: Tappy Data/SDZPQV3VZ1_1609.txt  \n",
            "  inflating: Tappy Data/SDZPQV3VZ1_1610.txt  \n",
            "  inflating: Tappy Data/SDZPQV3VZ1_1611.txt  \n",
            "  inflating: Tappy Data/SDZPQV3VZ1_1612.txt  \n",
            "  inflating: Tappy Data/SDZPQV3VZ1_1701.txt  \n",
            "  inflating: Tappy Data/SEVJ2WXCKH_1702.txt  \n",
            "  inflating: Tappy Data/SEVJ2WXCKH_1703.txt  \n",
            "  inflating: Tappy Data/SGT8K5GXG0_1609.txt  \n",
            "  inflating: Tappy Data/SGT8K5GXG0_1610.txt  \n",
            "  inflating: Tappy Data/SH6ZX4UKRO_1701.txt  \n",
            "  inflating: Tappy Data/SH6ZX4UKRO_1702.txt  \n",
            "  inflating: Tappy Data/SKLXBAOSN4_1702.txt  \n",
            "  inflating: Tappy Data/SKLXBAOSN4_1703.txt  \n",
            "  inflating: Tappy Data/SOP2REQFUH_1609.txt  \n",
            "  inflating: Tappy Data/SPNOI40JCA_1701.txt  \n",
            "  inflating: Tappy Data/SPNOI40JCA_1702.txt  \n",
            "  inflating: Tappy Data/STW9PUPHWN_1609.txt  \n",
            "  inflating: Tappy Data/SW61HF6XRY_1612.txt  \n",
            "  inflating: Tappy Data/SWJ4Q9V1NW_1609.txt  \n",
            "  inflating: Tappy Data/SYUUDFV8IU_1702.txt  \n",
            "  inflating: Tappy Data/SYUUDFV8IU_1703.txt  \n",
            "  inflating: Tappy Data/T0RR5A7EFV_1607.txt  \n",
            "  inflating: Tappy Data/TAGYMXUFJE_1701.txt  \n",
            "  inflating: Tappy Data/TAGYMXUFJE_1702.txt  \n",
            "  inflating: Tappy Data/TAGYMXUFJE_1703.txt  \n",
            "  inflating: Tappy Data/TBOPVHGLMX_1608.txt  \n",
            "  inflating: Tappy Data/TBOPVHGLMX_1609.txt  \n",
            "  inflating: Tappy Data/TBOPVHGLMX_1610.txt  \n",
            "  inflating: Tappy Data/TBOPVHGLMX_1612.txt  \n",
            " extracting: Tappy Data/TBOPVHGLMX_1701.txt  \n",
            "  inflating: Tappy Data/TDQGZRB2SU_1703.txt  \n",
            "  inflating: Tappy Data/TL2XHTLK1T_1606.txt  \n",
            "  inflating: Tappy Data/TL2XHTLK1T_1607.txt  \n",
            "  inflating: Tappy Data/TL2XHTLK1T_1608.txt  \n",
            "  inflating: Tappy Data/TL2XHTLK1T_1609.txt  \n",
            "  inflating: Tappy Data/TL2XHTLK1T_1610.txt  \n",
            "  inflating: Tappy Data/TL2XHTLK1T_1611.txt  \n",
            "  inflating: Tappy Data/TL2XHTLK1T_1612.txt  \n",
            "  inflating: Tappy Data/TL2XHTLK1T_1701.txt  \n",
            "  inflating: Tappy Data/TL2XHTLK1T_1702.txt  \n",
            "  inflating: Tappy Data/TL2XHTLK1T_1703.txt  \n",
            "  inflating: Tappy Data/TLR6R7C7AP_1609.txt  \n",
            "  inflating: Tappy Data/TLR6R7C7AP_1610.txt  \n",
            "  inflating: Tappy Data/TQCMYNHOSM_1608.txt  \n",
            "  inflating: Tappy Data/U25FAZCDZM_1702.txt  \n",
            "  inflating: Tappy Data/U25FAZCDZM_1703.txt  \n",
            "  inflating: Tappy Data/U8RI3K0CGP_1702.txt  \n",
            "  inflating: Tappy Data/UBO5EZ7IIH_1607.txt  \n",
            "  inflating: Tappy Data/UDCY90VKYN_1608.txt  \n",
            "  inflating: Tappy Data/UDCY90VKYN_1609.txt  \n",
            "  inflating: Tappy Data/UDCY90VKYN_1610.txt  \n",
            "  inflating: Tappy Data/UDCY90VKYN_1611.txt  \n",
            "  inflating: Tappy Data/UFMGBC58XD_1607.txt  \n",
            "  inflating: Tappy Data/UH6FQWXIZI_1607.txt  \n",
            "  inflating: Tappy Data/UH6FQWXIZI_1608.txt  \n",
            "  inflating: Tappy Data/UH6FQWXIZI_1609.txt  \n",
            "  inflating: Tappy Data/UJ2F1R6ODJ_1701.txt  \n",
            "  inflating: Tappy Data/UJ2F1R6ODJ_1702.txt  \n",
            "  inflating: Tappy Data/UJ2F1R6ODJ_1703.txt  \n",
            "  inflating: Tappy Data/UMZFEO7IAG_1608.txt  \n",
            "  inflating: Tappy Data/UUIZH9TDXR_1609.txt  \n",
            "  inflating: Tappy Data/UUIZH9TDXR_1610.txt  \n",
            "  inflating: Tappy Data/UUIZH9TDXR_1611.txt  \n",
            "  inflating: Tappy Data/UUIZH9TDXR_1612.txt  \n",
            "  inflating: Tappy Data/UURLOSDUOA_1607.txt  \n",
            "  inflating: Tappy Data/UYBDVXACTH_1702.txt  \n",
            "  inflating: Tappy Data/UYBDVXACTH_1703.txt  \n",
            "  inflating: Tappy Data/V2SZVYXBOD_1607.txt  \n",
            "  inflating: Tappy Data/V2SZVYXBOD_1608.txt  \n",
            "  inflating: Tappy Data/VCFUOTMSKT_1606.txt  \n",
            "  inflating: Tappy Data/VCTVD6LMPK_1609.txt  \n",
            "  inflating: Tappy Data/VDKQJZARYF_1609.txt  \n",
            "  inflating: Tappy Data/VIAXR21TSC_1702.txt  \n",
            "  inflating: Tappy Data/VIAXR21TSC_1703.txt  \n",
            "  inflating: Tappy Data/VR0LFE1JUC_1608.txt  \n",
            "  inflating: Tappy Data/VSBEPFSFWK_1608.txt  \n",
            "  inflating: Tappy Data/VSBEPFSFWK_1609.txt  \n",
            "  inflating: Tappy Data/VVYPNRQ5KG_1608.txt  \n",
            "  inflating: Tappy Data/VVYPNRQ5KG_1609.txt  \n",
            "  inflating: Tappy Data/VVYPNRQ5KG_1610.txt  \n",
            "  inflating: Tappy Data/VVYPNRQ5KG_1611.txt  \n",
            "  inflating: Tappy Data/VVYPNRQ5KG_1612.txt  \n",
            "  inflating: Tappy Data/VVYPNRQ5KG_1701.txt  \n",
            "  inflating: Tappy Data/VZWQROMTLO_1608.txt  \n",
            "  inflating: Tappy Data/WBS5I7VF1G_1608.txt  \n",
            "  inflating: Tappy Data/WBS5I7VF1G_1609.txt  \n",
            "  inflating: Tappy Data/WBS5I7VF1G_1610.txt  \n",
            "  inflating: Tappy Data/WBS5I7VF1G_1611.txt  \n",
            "  inflating: Tappy Data/WBS5I7VF1G_1612.txt  \n",
            "  inflating: Tappy Data/WBS5I7VF1G_1701.txt  \n",
            "  inflating: Tappy Data/WBS5I7VF1G_1702.txt  \n",
            "  inflating: Tappy Data/WBS5I7VF1G_1703.txt  \n",
            "  inflating: Tappy Data/WCNUFGGLYB_1702.txt  \n",
            "  inflating: Tappy Data/WCNUFGGLYB_1703.txt  \n",
            "  inflating: Tappy Data/WDNE1Q9EHT_1609.txt  \n",
            "  inflating: Tappy Data/WHTIJRQSYC_1702.txt  \n",
            "  inflating: Tappy Data/WHUETYQCMK_1701.txt  \n",
            "  inflating: Tappy Data/WXNQ0QM0XD_1701.txt  \n",
            "  inflating: Tappy Data/WXNQ0QM0XD_1702.txt  \n",
            "  inflating: Tappy Data/WY25WHLA9D_1702.txt  \n",
            "  inflating: Tappy Data/WY25WHLA9D_1703.txt  \n",
            "  inflating: Tappy Data/X7PEJ5EG77_1608.txt  \n",
            "  inflating: Tappy Data/XPHHPHIVZ4_1608.txt  \n",
            "  inflating: Tappy Data/XPHHPHIVZ4_1609.txt  \n",
            " extracting: Tappy Data/XQIXWF0BXG_1702.txt  \n",
            "  inflating: Tappy Data/XWAX2IHF3O_1606.txt  \n",
            "  inflating: Tappy Data/XWAX2IHF3O_1607.txt  \n",
            "  inflating: Tappy Data/XWAX2IHF3O_1608.txt  \n",
            "  inflating: Tappy Data/XWAX2IHF3O_1609.txt  \n",
            "  inflating: Tappy Data/XWAX2IHF3O_1610.txt  \n",
            "  inflating: Tappy Data/XWAX2IHF3O_1611.txt  \n",
            "  inflating: Tappy Data/XWAX2IHF3O_1612.txt  \n",
            "  inflating: Tappy Data/XWAX2IHF3O_1701.txt  \n",
            "  inflating: Tappy Data/XWAX2IHF3O_1702.txt  \n",
            "  inflating: Tappy Data/XWAX2IHF3O_1703.txt  \n",
            "  inflating: Tappy Data/XZ9HNUO4KO_1702.txt  \n",
            "  inflating: Tappy Data/YACDBXUNSA_1702.txt  \n",
            "  inflating: Tappy Data/YAJFHG6OHD_1702.txt  \n",
            "  inflating: Tappy Data/YAJFHG6OHD_1703.txt  \n",
            "  inflating: Tappy Data/YCQJAEI7RN_1609.txt  \n",
            "  inflating: Tappy Data/YI43UM1CEH_1608.txt  \n",
            "  inflating: Tappy Data/YI43UM1CEH_1609.txt  \n",
            "  inflating: Tappy Data/YI43UM1CEH_1610.txt  \n",
            "  inflating: Tappy Data/YI43UM1CEH_1611.txt  \n",
            "  inflating: Tappy Data/YIA9DW5AGQ_1608.txt  \n",
            "  inflating: Tappy Data/YNESMGNGWK_1606.txt  \n",
            "  inflating: Tappy Data/YNESMGNGWK_1607.txt  \n",
            "  inflating: Tappy Data/YNVRRFC8S4_1702.txt  \n",
            "  inflating: Tappy Data/YNVRRFC8S4_1703.txt  \n",
            "  inflating: Tappy Data/YQSGN9BMVK_1702.txt  \n",
            "  inflating: Tappy Data/YQSGN9BMVK_1703.txt  \n",
            "  inflating: Tappy Data/YWMIQIQND3_1606.txt  \n",
            "  inflating: Tappy Data/YYPKGX6B24_1702.txt  \n",
            "  inflating: Tappy Data/Z1QLXS3DGS_1702.txt  \n",
            "  inflating: Tappy Data/Z2UPVHHGBE_1702.txt  \n",
            "  inflating: Tappy Data/Z2UPVHHGBE_1703.txt  \n",
            "  inflating: Tappy Data/ZCPALNB4ZM_1702.txt  \n",
            "  inflating: Tappy Data/ZCPALNB4ZM_1703.txt  \n",
            "  inflating: Tappy Data/ZEA4RST93H_1607.txt  \n",
            "  inflating: Tappy Data/ZEA4RST93H_1608.txt  \n",
            "  inflating: Tappy Data/ZEA4RST93H_1609.txt  \n",
            "  inflating: Tappy Data/ZEA4RST93H_1703.txt  \n",
            "  inflating: Tappy Data/ZFADOEIUOD_1610.txt  \n",
            "  inflating: Tappy Data/ZGZJSOXBWP_1608.txt  \n",
            "  inflating: Tappy Data/ZI1KGKLCD5_1608.txt  \n",
            "  inflating: Tappy Data/ZI1KGKLCD5_1609.txt  \n",
            "  inflating: Tappy Data/ZI1KGKLCD5_1610.txt  \n",
            " extracting: Tappy Data/ZI1KGKLCD5_1612.txt  \n",
            "  inflating: Tappy Data/ZIUU38ZJXA_1608.txt  \n",
            "  inflating: Tappy Data/ZIUU38ZJXA_1609.txt  \n",
            "  inflating: Tappy Data/ZPXSHZSGKI_1701.txt  \n",
            "  inflating: Tappy Data/ZQ4UHHUPNZ_1608.txt  \n",
            "  inflating: Tappy Data/ZQ4UHHUPNZ_1609.txt  \n",
            "  inflating: Tappy Data/ZQ4UHHUPNZ_1610.txt  \n",
            "  inflating: Tappy Data/ZQ4UHHUPNZ_1611.txt  \n",
            "  inflating: Tappy Data/ZQ4UHHUPNZ_1612.txt  \n",
            "  inflating: Tappy Data/ZQ4UHHUPNZ_1701.txt  \n",
            "  inflating: Tappy Data/ZQ4UHHUPNZ_1702.txt  \n",
            "  inflating: Tappy Data/ZQ4UHHUPNZ_1703.txt  \n",
            "  inflating: Tappy Data/ZT9ASWFCFS_1606.txt  \n",
            "  inflating: Tappy Data/ZWBPPNQCUX_1608.txt  \n",
            "  inflating: Tappy Data/ZWBPPNQCUX_1612.txt  \n",
            "  inflating: Tappy Data/ZWHGXDUDLG_1703.txt  \n",
            "  inflating: Tappy Data/ZY9CCHSPF2_1607.txt  \n",
            "  inflating: Tappy Data/ZY9CCHSPF2_1608.txt  \n",
            "  inflating: Tappy Data/ZY9CCHSPF2_1609.txt  \n",
            "  inflating: Tappy Data/ZY9CCHSPF2_1610.txt  \n",
            "  inflating: Tappy Data/ZY9CCHSPF2_1611.txt  \n",
            "  inflating: Tappy Data/ZY9CCHSPF2_1612.txt  \n",
            "  inflating: Tappy Data/ZY9CCHSPF2_1701.txt  \n",
            "  inflating: Tappy Data/ZYWLN4JVLA_1701.txt  \n",
            "Archive:  physionet.org/files/tappy/1.0.0/Archived-users.zip\n",
            "   creating: Archived users/\n",
            "  inflating: Archived users/User_0EA27ICBLF.txt  \n",
            "  inflating: Archived users/User_0QAZFRHQHW.txt  \n",
            "  inflating: Archived users/User_0WTDIGPSBZ.txt  \n",
            "  inflating: Archived users/User_1HOEBIGASW.txt  \n",
            "  inflating: Archived users/User_1WMVCCU4RH.txt  \n",
            "  inflating: Archived users/User_1XNJCXS3EY.txt  \n",
            "  inflating: Archived users/User_2JTCBKUP8T.txt  \n",
            "  inflating: Archived users/User_2X17VCRRQA.txt  \n",
            "  inflating: Archived users/User_310NXPGJPD.txt  \n",
            "  inflating: Archived users/User_39KQRZCESF.txt  \n",
            "  inflating: Archived users/User_3DIXPRIOSW.txt  \n",
            "  inflating: Archived users/User_3LBXTMXULC.txt  \n",
            "  inflating: Archived users/User_3MZWDTW7CC.txt  \n",
            "  inflating: Archived users/User_48DZPAJ5NS.txt  \n",
            "  inflating: Archived users/User_4GUYFBZMK9.txt  \n",
            "  inflating: Archived users/User_4XPHKKBXS6.txt  \n",
            "  inflating: Archived users/User_5ARV4LHEJ0.txt  \n",
            "  inflating: Archived users/User_5CECBJXGB3.txt  \n",
            "  inflating: Archived users/User_5PQVTWULAC.txt  \n",
            "  inflating: Archived users/User_5USOYSDCXB.txt  \n",
            "  inflating: Archived users/User_5YFAPLRCMD.txt  \n",
            "  inflating: Archived users/User_6LB9FQABZQ.txt  \n",
            "  inflating: Archived users/User_6R9IGYWVWT.txt  \n",
            "  inflating: Archived users/User_6WBXSDG5BB.txt  \n",
            "  inflating: Archived users/User_6YXFEMHYZI.txt  \n",
            "  inflating: Archived users/User_7HTEQAAWWO.txt  \n",
            "  inflating: Archived users/User_7QVQD5IJEH.txt  \n",
            "  inflating: Archived users/User_7XS9VOLXWU.txt  \n",
            "  inflating: Archived users/User_81NEUZEBXI.txt  \n",
            "  inflating: Archived users/User_8EY6NZAKCI.txt  \n",
            "  inflating: Archived users/User_8MERXVINPN.txt  \n",
            "  inflating: Archived users/User_8O9IAIA9L1.txt  \n",
            "  inflating: Archived users/User_8TEUUGQBYB.txt  \n",
            "  inflating: Archived users/User_927ZLCPEJM.txt  \n",
            "  inflating: Archived users/User_95S93AXF86.txt  \n",
            "  inflating: Archived users/User_9GBSZXI2BB.txt  \n",
            "  inflating: Archived users/User_9JRHCGCWAZ.txt  \n",
            "  inflating: Archived users/User_9RCEHVGNCJ.txt  \n",
            "  inflating: Archived users/User_9TUXDIR9EE.txt  \n",
            "  inflating: Archived users/User_9ZRBC5WOZR.txt  \n",
            "  inflating: Archived users/User_ACSKCOJC06.txt  \n",
            "  inflating: Archived users/User_AFNOZ1KI1M.txt  \n",
            "  inflating: Archived users/User_AFQWSP8ARK.txt  \n",
            "  inflating: Archived users/User_AJHHNPKG0K.txt  \n",
            "  inflating: Archived users/User_AJIGSB2YPW.txt  \n",
            "  inflating: Archived users/User_ARUGT4UL2R.txt  \n",
            "  inflating: Archived users/User_ASP8RSNO73.txt  \n",
            "  inflating: Archived users/User_AVNGRDUXE5.txt  \n",
            "  inflating: Archived users/User_AXXXXBBCCH.txt  \n",
            "  inflating: Archived users/User_B4NL4SV9ZC.txt  \n",
            "  inflating: Archived users/User_BBCWCBNBPR.txt  \n",
            "  inflating: Archived users/User_BENXJNDSC4.txt  \n",
            "  inflating: Archived users/User_BFXNVL50DC.txt  \n",
            "  inflating: Archived users/User_BIGWMXFU3B.txt  \n",
            "  inflating: Archived users/User_BZ8MQ2TBMS.txt  \n",
            "  inflating: Archived users/User_C6UGS6P0J0.txt  \n",
            "  inflating: Archived users/User_CAXCJIKLYM.txt  \n",
            "  inflating: Archived users/User_CEU6KM05RU.txt  \n",
            "  inflating: Archived users/User_COK8G1W7JY.txt  \n",
            "  inflating: Archived users/User_CPSM4LIXDS.txt  \n",
            "  inflating: Archived users/User_CYC6IZJYTE.txt  \n",
            "  inflating: Archived users/User_E0TBSMYHQI.txt  \n",
            "  inflating: Archived users/User_E0XRQVF05S.txt  \n",
            "  inflating: Archived users/User_E1E2I8HUGC.txt  \n",
            "  inflating: Archived users/User_E7UA8EHENF.txt  \n",
            "  inflating: Archived users/User_EBGLZDVO5S.txt  \n",
            "  inflating: Archived users/User_EF9XEFXPBN.txt  \n",
            "  inflating: Archived users/User_EKG57AN0N6.txt  \n",
            "  inflating: Archived users/User_EMYGMAIB2L.txt  \n",
            "  inflating: Archived users/User_ERFIZ5O8FM.txt  \n",
            "  inflating: Archived users/User_EX8J9DGRSY.txt  \n",
            "  inflating: Archived users/User_EZF9NAHLOU.txt  \n",
            "  inflating: Archived users/User_F56FSV2EP7.txt  \n",
            "  inflating: Archived users/User_F8KU8UP2SZ.txt  \n",
            "  inflating: Archived users/User_FFNMFHHSZJ.txt  \n",
            "  inflating: Archived users/User_FHEOPKL3QQ.txt  \n",
            "  inflating: Archived users/User_FIWPKLWCT5.txt  \n",
            "  inflating: Archived users/User_FX9KOOZRZL.txt  \n",
            "  inflating: Archived users/User_FXC5YFXZ0K.txt  \n",
            "  inflating: Archived users/User_G6OE5CXQPY.txt  \n",
            "  inflating: Archived users/User_GEYWAGTINR.txt  \n",
            "  inflating: Archived users/User_GHRLW1IJRV.txt  \n",
            "  inflating: Archived users/User_GMCJGJHMZN.txt  \n",
            "  inflating: Archived users/User_GN1CUIPUTJ.txt  \n",
            "  inflating: Archived users/User_GN3N4ZNCV9.txt  \n",
            "  inflating: Archived users/User_GOCJ4TNPII.txt  \n",
            "  inflating: Archived users/User_GRPUBQLE4F.txt  \n",
            "  inflating: Archived users/User_GUDRVXO6RX.txt  \n",
            "  inflating: Archived users/User_H08AW2YBAJ.txt  \n",
            "  inflating: Archived users/User_HAEZ2A3NM5.txt  \n",
            "  inflating: Archived users/User_HB2JCE24IE.txt  \n",
            "  inflating: Archived users/User_HQGUVYLVZH.txt  \n",
            "  inflating: Archived users/User_HVSWQYNG2N.txt  \n",
            "  inflating: Archived users/User_HYGNDIWHSC.txt  \n",
            "  inflating: Archived users/User_I3U47MF5UF.txt  \n",
            "  inflating: Archived users/User_ICXFP2WKAU.txt  \n",
            "  inflating: Archived users/User_IDYIDJBAXF.txt  \n",
            "  inflating: Archived users/User_IDZHIUK2W2.txt  \n",
            "  inflating: Archived users/User_ITWTZ5F3VW.txt  \n",
            "  inflating: Archived users/User_IZBOYJGXXB.txt  \n",
            "  inflating: Archived users/User_J3QZ0MCD1Y.txt  \n",
            "  inflating: Archived users/User_JDWYGP605O.txt  \n",
            "  inflating: Archived users/User_JHBOKKHOQW.txt  \n",
            "  inflating: Archived users/User_JIRZDKEJQN.txt  \n",
            "  inflating: Archived users/User_JMIVIRFQRR.txt  \n",
            "  inflating: Archived users/User_JMYZ5IKGWE.txt  \n",
            "  inflating: Archived users/User_JQ0YSY0AYO.txt  \n",
            "  inflating: Archived users/User_JWGIQXYUDJ.txt  \n",
            "  inflating: Archived users/User_K2VMDST8HC.txt  \n",
            "  inflating: Archived users/User_K4TGUFAPJ8.txt  \n",
            "  inflating: Archived users/User_KCHR1NSQZO.txt  \n",
            "  inflating: Archived users/User_KEWWVGP2NM.txt  \n",
            "  inflating: Archived users/User_KKTY9PC9XM.txt  \n",
            "  inflating: Archived users/User_KRJVEQSLL5.txt  \n",
            "  inflating: Archived users/User_KTUVFFSLN4.txt  \n",
            "  inflating: Archived users/User_L2GM3QU5IO.txt  \n",
            "  inflating: Archived users/User_L7Q0BDRZ9C.txt  \n",
            "  inflating: Archived users/User_L7Q16SJ7KP.txt  \n",
            "  inflating: Archived users/User_LA6KW35OXK.txt  \n",
            "  inflating: Archived users/User_LEFLOMUTBN.txt  \n",
            "  inflating: Archived users/User_LFKWFNOFEM.txt  \n",
            "  inflating: Archived users/User_LIOUUNGQ8Q.txt  \n",
            "  inflating: Archived users/User_LKR3NUMIFS.txt  \n",
            "  inflating: Archived users/User_LKYPMARSKU.txt  \n",
            "  inflating: Archived users/User_LSQWWDXEYO.txt  \n",
            "  inflating: Archived users/User_LVRTXTCS1Z.txt  \n",
            "  inflating: Archived users/User_M0MTCXU0MH.txt  \n",
            "  inflating: Archived users/User_M0PBVLISCF.txt  \n",
            "  inflating: Archived users/User_M4ARHBY168.txt  \n",
            "  inflating: Archived users/User_MDL9KS0SFL.txt  \n",
            "  inflating: Archived users/User_MG8XVA5BFA.txt  \n",
            "  inflating: Archived users/User_MNMBCKNAAS.txt  \n",
            "  inflating: Archived users/User_MQ6HDDONF0.txt  \n",
            "  inflating: Archived users/User_MQJBGHOEXP.txt  \n",
            "  inflating: Archived users/User_NBISCUWYGS.txt  \n",
            "  inflating: Archived users/User_NCHCW5MTBJ.txt  \n",
            "  inflating: Archived users/User_NMKZDOICAB.txt  \n",
            "  inflating: Archived users/User_NMMGWRY6SO.txt  \n",
            "  inflating: Archived users/User_NPACI6EW26.txt  \n",
            "  inflating: Archived users/User_NSYGJALQVO.txt  \n",
            "  inflating: Archived users/User_NTWSB0ULD7.txt  \n",
            "  inflating: Archived users/User_O0L3RD63QP.txt  \n",
            "  inflating: Archived users/User_OAXZCZWN7W.txt  \n",
            "  inflating: Archived users/User_OMCPRWYBSQ.txt  \n",
            "  inflating: Archived users/User_P8HEQZSYJN.txt  \n",
            "  inflating: Archived users/User_PJRIZQJMKO.txt  \n",
            "  inflating: Archived users/User_PJU53Y7KVB.txt  \n",
            "  inflating: Archived users/User_PRGWGP1WH4.txt  \n",
            "  inflating: Archived users/User_PW8A521Y5K.txt  \n",
            "  inflating: Archived users/User_PWXIPGSKEF.txt  \n",
            "  inflating: Archived users/User_Q6MXNH0MGM.txt  \n",
            "  inflating: Archived users/User_QAH9IVALVC.txt  \n",
            "  inflating: Archived users/User_QCFNDCZPQH.txt  \n",
            "  inflating: Archived users/User_QDV7XQWLI7.txt  \n",
            "  inflating: Archived users/User_QEYNMBJ8T0.txt  \n",
            "  inflating: Archived users/User_QPEDAXESTL.txt  \n",
            "  inflating: Archived users/User_QSFGD1TSPA.txt  \n",
            "  inflating: Archived users/User_QXLSWXKHEX.txt  \n",
            "  inflating: Archived users/User_R3OKI24Z0Q.txt  \n",
            "  inflating: Archived users/User_R8CJDKFQJZ.txt  \n",
            "  inflating: Archived users/User_RDJHNZGQL2.txt  \n",
            "  inflating: Archived users/User_RDJPGMWKAG.txt  \n",
            "  inflating: Archived users/User_RWQHSVOUGI.txt  \n",
            "  inflating: Archived users/User_RYQGAPGNAM.txt  \n",
            "  inflating: Archived users/User_S0YGDLIF9V.txt  \n",
            "  inflating: Archived users/User_S8Y5T8RWZ4.txt  \n",
            "  inflating: Archived users/User_S9C3TTX3NE.txt  \n",
            "  inflating: Archived users/User_SDZPQV3VZ1.txt  \n",
            "  inflating: Archived users/User_SGT8K5GXG0.txt  \n",
            "  inflating: Archived users/User_SH6ZX4UKRO.txt  \n",
            "  inflating: Archived users/User_SKLXBAOSN4.txt  \n",
            "  inflating: Archived users/User_SOP2REQFUH.txt  \n",
            "  inflating: Archived users/User_SPNOI40JCA.txt  \n",
            "  inflating: Archived users/User_STW9PUPHWN.txt  \n",
            "  inflating: Archived users/User_SW61HF6XRY.txt  \n",
            "  inflating: Archived users/User_SWJ4Q9V1NW.txt  \n",
            "  inflating: Archived users/User_SYUUDFV8IU.txt  \n",
            "  inflating: Archived users/User_T0RR5A7EFV.txt  \n",
            "  inflating: Archived users/User_TAGYMXUFJE.txt  \n",
            "  inflating: Archived users/User_TBOPVHGLMX.txt  \n",
            "  inflating: Archived users/User_TDQGZRB2SU.txt  \n",
            "  inflating: Archived users/User_TL2XHTLK1T.txt  \n",
            "  inflating: Archived users/User_U25FAZCDZM.txt  \n",
            "  inflating: Archived users/User_U8RI3K0CGP.txt  \n",
            "  inflating: Archived users/User_UDCY90VKYN.txt  \n",
            "  inflating: Archived users/User_UH6FQWXIZI.txt  \n",
            "  inflating: Archived users/User_UJ2F1R6ODJ.txt  \n",
            "  inflating: Archived users/User_UUIZH9TDXR.txt  \n",
            "  inflating: Archived users/User_UYBDVXACTH.txt  \n",
            "  inflating: Archived users/User_V2SZVYXBOD.txt  \n",
            "  inflating: Archived users/User_VCFUOTMSKT.txt  \n",
            "  inflating: Archived users/User_VCTVD6LMPK.txt  \n",
            "  inflating: Archived users/User_VIAXR21TSC.txt  \n",
            "  inflating: Archived users/User_VR0LFE1JUC.txt  \n",
            "  inflating: Archived users/User_VSBEPFSFWK.txt  \n",
            "  inflating: Archived users/User_VVYPNRQ5KG.txt  \n",
            "  inflating: Archived users/User_VZWQROMTLO.txt  \n",
            "  inflating: Archived users/User_WBS5I7VF1G.txt  \n",
            "  inflating: Archived users/User_WCNUFGGLYB.txt  \n",
            "  inflating: Archived users/User_WDNE1Q9EHT.txt  \n",
            "  inflating: Archived users/User_WXNQ0QM0XD.txt  \n",
            "  inflating: Archived users/User_WY25WHLA9D.txt  \n",
            "  inflating: Archived users/User_X7PEJ5EG77.txt  \n",
            "  inflating: Archived users/User_XPHHPHIVZ4.txt  \n",
            "  inflating: Archived users/User_XQIXWF0BXG.txt  \n",
            "  inflating: Archived users/User_XWAX2IHF3O.txt  \n",
            "  inflating: Archived users/User_YAJFHG6OHD.txt  \n",
            "  inflating: Archived users/User_YFZEXV85OS.txt  \n",
            "  inflating: Archived users/User_YI43UM1CEH.txt  \n",
            "  inflating: Archived users/User_YIA9DW5AGQ.txt  \n",
            "  inflating: Archived users/User_YNVRRFC8S4.txt  \n",
            "  inflating: Archived users/User_YQSGN9BMVK.txt  \n",
            "  inflating: Archived users/User_YWAWVFZZZE.txt  \n",
            "  inflating: Archived users/User_YWMIQIQND3.txt  \n",
            "  inflating: Archived users/User_YYPKGX6B24.txt  \n",
            "  inflating: Archived users/User_Z2UPVHHGBE.txt  \n",
            "  inflating: Archived users/User_ZCPALNB4ZM.txt  \n",
            "  inflating: Archived users/User_ZEA4RST93H.txt  \n",
            "  inflating: Archived users/User_ZI1KGKLCD5.txt  \n",
            "  inflating: Archived users/User_ZIUU38ZJXA.txt  \n",
            "  inflating: Archived users/User_ZPXSHZSGKI.txt  \n",
            "  inflating: Archived users/User_ZQ4UHHUPNZ.txt  \n",
            "  inflating: Archived users/User_ZT9ASWFCFS.txt  \n",
            "  inflating: Archived users/User_ZWBPPNQCUX.txt  \n",
            "  inflating: Archived users/User_ZWHGXDUDLG.txt  \n",
            "  inflating: Archived users/User_ZY9CCHSPF2.txt  \n",
            "  inflating: Archived users/User_ZYWLN4JVLA.txt  \n"
          ],
          "name": "stdout"
        }
      ]
    },
    {
      "cell_type": "markdown",
      "metadata": {
        "id": "kbOr_mDBEPt4",
        "colab_type": "text"
      },
      "source": [
        "We proceed to unzip the zipped folder enclosed in the Tappy Keystroke Data file. The first folder we unzip, Archived-Data, contains the file Tappy_Data. Tappy_Data is essentially all the keystroke data for an individual user. The second folder, Archived-users, contains the Archived_users folder which is data about each individual user. While Tappy_Data is of greater interest to this project considering it contains all the relevant keystroke data, we will first analyse Archived_users to filter the list of users we need to analyse. Not only would this help us to speed up the process of feature extraction from the keystroke data, but it would also help the sensitivity and specificity of our program as we would get relevant data from more useful users."
      ]
    },
    {
      "cell_type": "code",
      "metadata": {
        "id": "sXhrxuBodbgM",
        "colab_type": "code",
        "colab": {
          "base_uri": "https://localhost:8080/",
          "height": 34
        },
        "outputId": "df6d1d96-3386-4001-81a9-ea01d0115d8a"
      },
      "source": [
        "!ls 'RSI_Keylogger/Shared drives/RSI_Keylogger/data/Tappy_Data/'"
      ],
      "execution_count": null,
      "outputs": [
        {
          "output_type": "stream",
          "text": [
            "ls: cannot access 'RSI_Keylogger/Shared drives/RSI_Keylogger/data/Tappy_Data/': No such file or directory\n"
          ],
          "name": "stdout"
        }
      ]
    },
    {
      "cell_type": "markdown",
      "metadata": {
        "id": "x6P6ZU_vIxe6",
        "colab_type": "text"
      },
      "source": [
        "We use the ls command to obtain a list of all the files stored in Tappy_Data"
      ]
    },
    {
      "cell_type": "code",
      "metadata": {
        "id": "KMsR67MtdjId",
        "colab_type": "code",
        "colab": {
          "base_uri": "https://localhost:8080/",
          "height": 34
        },
        "outputId": "20f69318-c736-44f8-8de7-ec69c53b8b09"
      },
      "source": [
        "!mkdir 'RSI_Keylogger/Shared drives/RSI_Keylogger/data'"
      ],
      "execution_count": null,
      "outputs": [
        {
          "output_type": "stream",
          "text": [
            "mkdir: cannot create directory ‘RSI_Keylogger/Shared drives/RSI_Keylogger/data’: No such file or directory\n"
          ],
          "name": "stdout"
        }
      ]
    },
    {
      "cell_type": "markdown",
      "metadata": {
        "id": "VdAzczxAGJnt",
        "colab_type": "text"
      },
      "source": [
        "For ease of reference, a separate directory called data is made. This directory houses both the Tappy_Data folder and the Archived_users folder"
      ]
    },
    {
      "cell_type": "code",
      "metadata": {
        "id": "Dag8Zvx6dtpS",
        "colab_type": "code",
        "colab": {
          "base_uri": "https://localhost:8080/",
          "height": 34
        },
        "outputId": "21969913-3515-4e0f-e6b0-7bfe08b0388d"
      },
      "source": [
        "!mv 'Tappy Data' 'RSI_Keylogger/Shared drives/RSI_Keylogger/data/Tappy_Data'"
      ],
      "execution_count": null,
      "outputs": [
        {
          "output_type": "stream",
          "text": [
            "mv: cannot stat 'Tappy Data': No such file or directory\n"
          ],
          "name": "stdout"
        }
      ]
    },
    {
      "cell_type": "markdown",
      "metadata": {
        "id": "PnbMdaysIAqg",
        "colab_type": "text"
      },
      "source": [
        "We move Tappy_Data folder into the data directory."
      ]
    },
    {
      "cell_type": "code",
      "metadata": {
        "id": "7yWJZoU8dzOv",
        "colab_type": "code",
        "colab": {}
      },
      "source": [
        "!mv 'Archived users' 'RSI_Keylogger/Shared drives/RSI_Keylogger/data/Archived_users'"
      ],
      "execution_count": null,
      "outputs": []
    },
    {
      "cell_type": "code",
      "metadata": {
        "id": "Ghv04RVhW0Zs",
        "colab_type": "code",
        "colab": {
          "base_uri": "https://localhost:8080/",
          "height": 52
        },
        "outputId": "acede8c4-9006-4fc9-dfce-1ca42ed6a8b1"
      },
      "source": [
        "%cd content"
      ],
      "execution_count": null,
      "outputs": [
        {
          "output_type": "stream",
          "text": [
            "[Errno 2] No such file or directory: 'content'\n",
            "/content\n"
          ],
          "name": "stdout"
        }
      ]
    },
    {
      "cell_type": "markdown",
      "metadata": {
        "id": "uDB81lUHIlq3",
        "colab_type": "text"
      },
      "source": [
        "We move Archived_users folder into the data directory"
      ]
    },
    {
      "cell_type": "code",
      "metadata": {
        "id": "8pDMwQ0cft2n",
        "colab_type": "code",
        "colab": {}
      },
      "source": [
        "import pandas as pd"
      ],
      "execution_count": null,
      "outputs": []
    },
    {
      "cell_type": "markdown",
      "metadata": {
        "id": "YkBRJUZsHIiU",
        "colab_type": "text"
      },
      "source": [
        "We import the pandas library as it would allow us to use extremely helpful functions such as `read_csv` to read the text files enclosed in the data folder, and the `drop()` function to allow us to save memory usage by dropping unneeded columns of data."
      ]
    },
    {
      "cell_type": "code",
      "metadata": {
        "id": "QHVky6akfw5_",
        "colab_type": "code",
        "colab": {}
      },
      "source": [
        "import os"
      ],
      "execution_count": null,
      "outputs": []
    },
    {
      "cell_type": "markdown",
      "metadata": {
        "id": "h-30vWd_I-UD",
        "colab_type": "text"
      },
      "source": [
        "We import the os library as it allows to manipulate the file structure and perform tasks such as opening a file and reading the whole thing."
      ]
    },
    {
      "cell_type": "code",
      "metadata": {
        "id": "QIWpZa7Og1eW",
        "colab_type": "code",
        "colab": {}
      },
      "source": [
        "import glob"
      ],
      "execution_count": null,
      "outputs": []
    },
    {
      "cell_type": "markdown",
      "metadata": {
        "id": "3nCHM381JrGa",
        "colab_type": "text"
      },
      "source": [
        "We import the glob library as it allows us to use the `glob` function which can help us to retrive a list of file names that match a particular condition."
      ]
    },
    {
      "cell_type": "code",
      "metadata": {
        "id": "AHFs2ehFhROY",
        "colab_type": "code",
        "colab": {
          "base_uri": "https://localhost:8080/",
          "height": 1000
        },
        "outputId": "c6f919fa-3a2e-488d-ee80-d716bf666e87"
      },
      "source": [
        "path = '/content/RSI_Keylogger/Shared drives/RSI_Keylogger/data/Archived_users/*.txt'\n",
        "i = 0\n",
        "m = 0\n",
        "userrs = []\n",
        "userss = []\n",
        "for filename in glob.glob(path):\n",
        "    with open(filename, 'r') as f:\n",
        "        wholefile = f.read()\n",
        "        #print('{} and {}'.format('Mild' in wholefile, 'Levadopa: False' in wholefile))\n",
        "        if ('Mild' in wholefile) and ('Levadopa: False' in wholefile):\n",
        "          print(filename)\n",
        "          i += 1\n",
        "          userrs = userrs + [filename]\n",
        "        elif ('Impact:  ------' in wholefile):\n",
        "          print(filename)\n",
        "          m += 1\n",
        "          userss = userss + [filename]\n",
        "print(i)\n",
        "print(m)"
      ],
      "execution_count": null,
      "outputs": [
        {
          "output_type": "stream",
          "text": [
            "/content/RSI_Keylogger/Shared drives/RSI_Keylogger/data/Archived_users/User_0QAZFRHQHW.txt\n",
            "/content/RSI_Keylogger/Shared drives/RSI_Keylogger/data/Archived_users/User_0WTDIGPSBZ.txt\n",
            "/content/RSI_Keylogger/Shared drives/RSI_Keylogger/data/Archived_users/User_1HOEBIGASW.txt\n",
            "/content/RSI_Keylogger/Shared drives/RSI_Keylogger/data/Archived_users/User_1XNJCXS3EY.txt\n",
            "/content/RSI_Keylogger/Shared drives/RSI_Keylogger/data/Archived_users/User_3DIXPRIOSW.txt\n",
            "/content/RSI_Keylogger/Shared drives/RSI_Keylogger/data/Archived_users/User_4XPHKKBXS6.txt\n",
            "/content/RSI_Keylogger/Shared drives/RSI_Keylogger/data/Archived_users/User_5CECBJXGB3.txt\n",
            "/content/RSI_Keylogger/Shared drives/RSI_Keylogger/data/Archived_users/User_5PQVTWULAC.txt\n",
            "/content/RSI_Keylogger/Shared drives/RSI_Keylogger/data/Archived_users/User_5USOYSDCXB.txt\n",
            "/content/RSI_Keylogger/Shared drives/RSI_Keylogger/data/Archived_users/User_6LB9FQABZQ.txt\n",
            "/content/RSI_Keylogger/Shared drives/RSI_Keylogger/data/Archived_users/User_8O9IAIA9L1.txt\n",
            "/content/RSI_Keylogger/Shared drives/RSI_Keylogger/data/Archived_users/User_9RCEHVGNCJ.txt\n",
            "/content/RSI_Keylogger/Shared drives/RSI_Keylogger/data/Archived_users/User_9ZRBC5WOZR.txt\n",
            "/content/RSI_Keylogger/Shared drives/RSI_Keylogger/data/Archived_users/User_48DZPAJ5NS.txt\n",
            "/content/RSI_Keylogger/Shared drives/RSI_Keylogger/data/Archived_users/User_81NEUZEBXI.txt\n",
            "/content/RSI_Keylogger/Shared drives/RSI_Keylogger/data/Archived_users/User_AVNGRDUXE5.txt\n",
            "/content/RSI_Keylogger/Shared drives/RSI_Keylogger/data/Archived_users/User_AXXXXBBCCH.txt\n",
            "/content/RSI_Keylogger/Shared drives/RSI_Keylogger/data/Archived_users/User_BENXJNDSC4.txt\n",
            "/content/RSI_Keylogger/Shared drives/RSI_Keylogger/data/Archived_users/User_BFXNVL50DC.txt\n",
            "/content/RSI_Keylogger/Shared drives/RSI_Keylogger/data/Archived_users/User_CAXCJIKLYM.txt\n",
            "/content/RSI_Keylogger/Shared drives/RSI_Keylogger/data/Archived_users/User_COK8G1W7JY.txt\n",
            "/content/RSI_Keylogger/Shared drives/RSI_Keylogger/data/Archived_users/User_E0XRQVF05S.txt\n",
            "/content/RSI_Keylogger/Shared drives/RSI_Keylogger/data/Archived_users/User_EF9XEFXPBN.txt\n",
            "/content/RSI_Keylogger/Shared drives/RSI_Keylogger/data/Archived_users/User_EMYGMAIB2L.txt\n",
            "/content/RSI_Keylogger/Shared drives/RSI_Keylogger/data/Archived_users/User_EZF9NAHLOU.txt\n",
            "/content/RSI_Keylogger/Shared drives/RSI_Keylogger/data/Archived_users/User_F8KU8UP2SZ.txt\n",
            "/content/RSI_Keylogger/Shared drives/RSI_Keylogger/data/Archived_users/User_F56FSV2EP7.txt\n",
            "/content/RSI_Keylogger/Shared drives/RSI_Keylogger/data/Archived_users/User_FFNMFHHSZJ.txt\n",
            "/content/RSI_Keylogger/Shared drives/RSI_Keylogger/data/Archived_users/User_FX9KOOZRZL.txt\n",
            "/content/RSI_Keylogger/Shared drives/RSI_Keylogger/data/Archived_users/User_G6OE5CXQPY.txt\n",
            "/content/RSI_Keylogger/Shared drives/RSI_Keylogger/data/Archived_users/User_GEYWAGTINR.txt\n",
            "/content/RSI_Keylogger/Shared drives/RSI_Keylogger/data/Archived_users/User_GN1CUIPUTJ.txt\n",
            "/content/RSI_Keylogger/Shared drives/RSI_Keylogger/data/Archived_users/User_GN3N4ZNCV9.txt\n",
            "/content/RSI_Keylogger/Shared drives/RSI_Keylogger/data/Archived_users/User_H08AW2YBAJ.txt\n",
            "/content/RSI_Keylogger/Shared drives/RSI_Keylogger/data/Archived_users/User_HAEZ2A3NM5.txt\n",
            "/content/RSI_Keylogger/Shared drives/RSI_Keylogger/data/Archived_users/User_HYGNDIWHSC.txt\n",
            "/content/RSI_Keylogger/Shared drives/RSI_Keylogger/data/Archived_users/User_ICXFP2WKAU.txt\n",
            "/content/RSI_Keylogger/Shared drives/RSI_Keylogger/data/Archived_users/User_IDYIDJBAXF.txt\n",
            "/content/RSI_Keylogger/Shared drives/RSI_Keylogger/data/Archived_users/User_JIRZDKEJQN.txt\n",
            "/content/RSI_Keylogger/Shared drives/RSI_Keylogger/data/Archived_users/User_JQ0YSY0AYO.txt\n",
            "/content/RSI_Keylogger/Shared drives/RSI_Keylogger/data/Archived_users/User_JWGIQXYUDJ.txt\n",
            "/content/RSI_Keylogger/Shared drives/RSI_Keylogger/data/Archived_users/User_K2VMDST8HC.txt\n",
            "/content/RSI_Keylogger/Shared drives/RSI_Keylogger/data/Archived_users/User_KKTY9PC9XM.txt\n",
            "/content/RSI_Keylogger/Shared drives/RSI_Keylogger/data/Archived_users/User_KRJVEQSLL5.txt\n",
            "/content/RSI_Keylogger/Shared drives/RSI_Keylogger/data/Archived_users/User_KTUVFFSLN4.txt\n",
            "/content/RSI_Keylogger/Shared drives/RSI_Keylogger/data/Archived_users/User_L2GM3QU5IO.txt\n",
            "/content/RSI_Keylogger/Shared drives/RSI_Keylogger/data/Archived_users/User_LA6KW35OXK.txt\n",
            "/content/RSI_Keylogger/Shared drives/RSI_Keylogger/data/Archived_users/User_LKYPMARSKU.txt\n",
            "/content/RSI_Keylogger/Shared drives/RSI_Keylogger/data/Archived_users/User_LSQWWDXEYO.txt\n",
            "/content/RSI_Keylogger/Shared drives/RSI_Keylogger/data/Archived_users/User_M4ARHBY168.txt\n",
            "/content/RSI_Keylogger/Shared drives/RSI_Keylogger/data/Archived_users/User_MDL9KS0SFL.txt\n",
            "/content/RSI_Keylogger/Shared drives/RSI_Keylogger/data/Archived_users/User_MG8XVA5BFA.txt\n",
            "/content/RSI_Keylogger/Shared drives/RSI_Keylogger/data/Archived_users/User_MNMBCKNAAS.txt\n",
            "/content/RSI_Keylogger/Shared drives/RSI_Keylogger/data/Archived_users/User_MQJBGHOEXP.txt\n",
            "/content/RSI_Keylogger/Shared drives/RSI_Keylogger/data/Archived_users/User_NMMGWRY6SO.txt\n",
            "/content/RSI_Keylogger/Shared drives/RSI_Keylogger/data/Archived_users/User_OMCPRWYBSQ.txt\n",
            "/content/RSI_Keylogger/Shared drives/RSI_Keylogger/data/Archived_users/User_PW8A521Y5K.txt\n",
            "/content/RSI_Keylogger/Shared drives/RSI_Keylogger/data/Archived_users/User_QCFNDCZPQH.txt\n",
            "/content/RSI_Keylogger/Shared drives/RSI_Keylogger/data/Archived_users/User_QPEDAXESTL.txt\n",
            "/content/RSI_Keylogger/Shared drives/RSI_Keylogger/data/Archived_users/User_QXLSWXKHEX.txt\n",
            "/content/RSI_Keylogger/Shared drives/RSI_Keylogger/data/Archived_users/User_R3OKI24Z0Q.txt\n",
            "/content/RSI_Keylogger/Shared drives/RSI_Keylogger/data/Archived_users/User_RDJHNZGQL2.txt\n",
            "/content/RSI_Keylogger/Shared drives/RSI_Keylogger/data/Archived_users/User_RYQGAPGNAM.txt\n",
            "/content/RSI_Keylogger/Shared drives/RSI_Keylogger/data/Archived_users/User_S8Y5T8RWZ4.txt\n",
            "/content/RSI_Keylogger/Shared drives/RSI_Keylogger/data/Archived_users/User_S9C3TTX3NE.txt\n",
            "/content/RSI_Keylogger/Shared drives/RSI_Keylogger/data/Archived_users/User_SDZPQV3VZ1.txt\n",
            "/content/RSI_Keylogger/Shared drives/RSI_Keylogger/data/Archived_users/User_SOP2REQFUH.txt\n",
            "/content/RSI_Keylogger/Shared drives/RSI_Keylogger/data/Archived_users/User_STW9PUPHWN.txt\n",
            "/content/RSI_Keylogger/Shared drives/RSI_Keylogger/data/Archived_users/User_TBOPVHGLMX.txt\n",
            "/content/RSI_Keylogger/Shared drives/RSI_Keylogger/data/Archived_users/User_TDQGZRB2SU.txt\n",
            "/content/RSI_Keylogger/Shared drives/RSI_Keylogger/data/Archived_users/User_TL2XHTLK1T.txt\n",
            "/content/RSI_Keylogger/Shared drives/RSI_Keylogger/data/Archived_users/User_U8RI3K0CGP.txt\n",
            "/content/RSI_Keylogger/Shared drives/RSI_Keylogger/data/Archived_users/User_U25FAZCDZM.txt\n",
            "/content/RSI_Keylogger/Shared drives/RSI_Keylogger/data/Archived_users/User_UH6FQWXIZI.txt\n",
            "/content/RSI_Keylogger/Shared drives/RSI_Keylogger/data/Archived_users/User_V2SZVYXBOD.txt\n",
            "/content/RSI_Keylogger/Shared drives/RSI_Keylogger/data/Archived_users/User_VCFUOTMSKT.txt\n",
            "/content/RSI_Keylogger/Shared drives/RSI_Keylogger/data/Archived_users/User_VR0LFE1JUC.txt\n",
            "/content/RSI_Keylogger/Shared drives/RSI_Keylogger/data/Archived_users/User_VSBEPFSFWK.txt\n",
            "/content/RSI_Keylogger/Shared drives/RSI_Keylogger/data/Archived_users/User_VVYPNRQ5KG.txt\n",
            "/content/RSI_Keylogger/Shared drives/RSI_Keylogger/data/Archived_users/User_WXNQ0QM0XD.txt\n",
            "/content/RSI_Keylogger/Shared drives/RSI_Keylogger/data/Archived_users/User_XPHHPHIVZ4.txt\n",
            "/content/RSI_Keylogger/Shared drives/RSI_Keylogger/data/Archived_users/User_XQIXWF0BXG.txt\n",
            "/content/RSI_Keylogger/Shared drives/RSI_Keylogger/data/Archived_users/User_YAJFHG6OHD.txt\n",
            "/content/RSI_Keylogger/Shared drives/RSI_Keylogger/data/Archived_users/User_YI43UM1CEH.txt\n",
            "/content/RSI_Keylogger/Shared drives/RSI_Keylogger/data/Archived_users/User_YIA9DW5AGQ.txt\n",
            "/content/RSI_Keylogger/Shared drives/RSI_Keylogger/data/Archived_users/User_YQSGN9BMVK.txt\n",
            "/content/RSI_Keylogger/Shared drives/RSI_Keylogger/data/Archived_users/User_YWAWVFZZZE.txt\n",
            "/content/RSI_Keylogger/Shared drives/RSI_Keylogger/data/Archived_users/User_YWMIQIQND3.txt\n",
            "/content/RSI_Keylogger/Shared drives/RSI_Keylogger/data/Archived_users/User_YYPKGX6B24.txt\n",
            "/content/RSI_Keylogger/Shared drives/RSI_Keylogger/data/Archived_users/User_Z2UPVHHGBE.txt\n",
            "35\n",
            "55\n"
          ],
          "name": "stdout"
        }
      ]
    },
    {
      "cell_type": "markdown",
      "metadata": {
        "id": "vLReTjIDJ3QC",
        "colab_type": "text"
      },
      "source": [
        "We first create a variable, path, to store the path (location) of the text files located in the Archived_users. We then create a null int variable, i, to count the instances of files that match our condition. We also create a list variable, users, (which is also empty) to store all the file names that match our condition. \n",
        "\n",
        "Using the `glob function`, we retrieve a list of file names that are text files. Then, using the `with open function`, we open each file into another variable, f. \n",
        "\n",
        "To read the text file, we use the `read() function`. We proceed to create another variable, wholeread to store the entirety of the open file in memory. This is done to help us check the file if it matches our conditions. \n",
        "\n",
        "We create an `if statement` to filter the data. If the variable f contained the strings: 'Levadopa: False', and 'Mild' we would store the file in the users list, and print the name of the file. We would also increase the value of our previously null int i by 1. \n",
        "\n",
        "At the end of the program we `print` the i variable and recieve 90. This is the number of users who matched our condition and part of the users whose data we plan on analysing and testing the Machine Learning algorithm on."
      ]
    },
    {
      "cell_type": "code",
      "metadata": {
        "id": "HaJ6ayTdgtm7",
        "colab_type": "code",
        "colab": {}
      },
      "source": [
        "mypath = '/content/RSI_Keylogger/Shared drives/RSI_Keylogger/data/Archived_users/'\n",
        "onlyfiles = [f for f in os.listdir(mypath) if os.path.isfile(os.path.join(mypath, f))]"
      ],
      "execution_count": null,
      "outputs": []
    },
    {
      "cell_type": "markdown",
      "metadata": {
        "id": "4PJ5RWxlDTmX",
        "colab_type": "text"
      },
      "source": [
        "We proceed to create a variable, mypath, to store the location of the files in Archived users. We also create another variable, a list variable called onlyfiles, to store the name of these users by using the `os.listdir` method to retrive list the files and `os.path.isfile` method and `os.path.join` method to store their names and truncate the path."
      ]
    },
    {
      "cell_type": "code",
      "metadata": {
        "id": "XhvSScCEg0r5",
        "colab_type": "code",
        "colab": {}
      },
      "source": [
        "users = []\n",
        "for file1 in onlyfiles:\n",
        "  user = file1.split('_')[1].split('.txt')[0]\n",
        "  users = users + [user]"
      ],
      "execution_count": null,
      "outputs": []
    },
    {
      "cell_type": "markdown",
      "metadata": {
        "id": "hpg7mH2QEXTX",
        "colab_type": "text"
      },
      "source": [
        "We now create another list variable, users which is null, to store the names of each file in onlyfiles while truncating 'User_'. This is done so that we can compare the names of the items in the users list to the text files in Archived data as the text files are stored as 'Username_date'. We do this by creating a for loop and a local variable called file1. file1 is an item in the onlyfiles list and with the help of the `split` method, we are able to retrive only the username. This username is then stored into another local variable, user, which is finally added as an item incrementally to the users list we created before."
      ]
    },
    {
      "cell_type": "code",
      "metadata": {
        "id": "_QyT9FWCFDLx",
        "colab_type": "code",
        "colab": {}
      },
      "source": [
        "import numpy as np\n",
        "import scipy\n",
        "from scipy import stats"
      ],
      "execution_count": null,
      "outputs": []
    },
    {
      "cell_type": "markdown",
      "metadata": {
        "id": "mj6aNaczG36w",
        "colab_type": "text"
      },
      "source": [
        "We import the stats methods from the scipy library as they are required to calculate the mean and kurtosis of the data we have."
      ]
    },
    {
      "cell_type": "code",
      "metadata": {
        "id": "V03h3bQttYZ2",
        "colab_type": "code",
        "colab": {
          "base_uri": "https://localhost:8080/",
          "height": 193
        },
        "outputId": "01e13c0b-a47f-4ce7-a0c7-ee09f5a5d3e8"
      },
      "source": [
        "holds_names = [\"Left_Mean\", \"Left_SD\", \"Left_Skew\", \"Left_Kurt\", \"Right_Mean\", \"Right_SD\", \"Right_Skew\", \"Right_Kurt\", \"Mean_Dif\", \"PD\"]\n",
        "lat_names = [\"LL_Mean\", \"LL_SD\", \"LL_Skew\", \"LL_Kurt\", \"RR_Mean\", \"RR_SD\", \"RR_Skew\", \"RR_Kurt\", \"LR_Mean\", \"LR_SD\", \"LR_Skew\", \"LR_Kurt\", \"RL_Mean\", \"RL_SD\", \"RL_Skew\", \"RL_Kurt\", \"LLRR_Mean_Dif\", \"LRRL_Mean_Dif\", \"PD\"]\n",
        "\n",
        "hdf = pd.DataFrame()\n",
        "df1 = pd.DataFrame()\n",
        "df2 = pd.DataFrame()\n",
        "ldf = pd.DataFrame()\n",
        "\n",
        "holds_data = []\n",
        "latency_data = []\n",
        "holds = pd.DataFrame(columns=holds_names)\n",
        "latency = pd.DataFrame(columns=lat_names)\n",
        "\n",
        "stat = 0\n",
        "\n",
        "for user in users:\n",
        "  filenames = glob.glob('/content/RSI_Keylogger/Shared drives/RSI_Keylogger/data/Tappy_Data/{}*.txt'.format(user))\n",
        "  if \"/content/RSI_Keylogger/Shared drives/RSI_Keylogger/data/Archived_users/User_\"+user+\".txt\" in userrs:\n",
        "    with open('output_file.txt', 'w') as outfile:\n",
        "      for fname in filenames:\n",
        "        with open(fname) as infile:\n",
        "          outfile.write(infile.read())\n",
        "    try:  \n",
        "      df2 = pd.read_csv('/content/output_file.txt', header=None, delimiter='\\t', usecols=[0,3,4,5,6])\n",
        "      df1 = df1.append(df2)\n",
        "    except pd.errors.EmptyDataError:\n",
        "      print(fname)\n",
        "      continue\n",
        "    if len(df1) > 1999:\n",
        "      stat = 1\n",
        "\n",
        "      holdl = pd.to_numeric(df1[df1[3] == 'L'][4], errors='coerce')\n",
        "      holdl = holdl.dropna()\n",
        "      holdl = np.array(holdl)\n",
        "      holdl = np.clip(holdl, 60, 140)\n",
        "\n",
        "      LM = np.mean(holdl)\n",
        "      LSD = np.std(holdl)\n",
        "      LSK = scipy.stats.skew(holdl)\n",
        "      LK = scipy.stats.kurtosis(holdl)\n",
        "\n",
        "      holdr = pd.to_numeric(df1[df1[3] == 'R'][4], errors='coerce')\n",
        "      holdr = holdr.dropna()\n",
        "      holdr = np.array(holdr)\n",
        "      holdr = np.clip(holdr, 60, 140)\n",
        "\n",
        "      RM = np.mean(holdr)\n",
        "      RSD = np.std(holdr)\n",
        "      RSK = scipy.stats.skew(holdr)\n",
        "      RK = scipy.stats.kurtosis(holdr)\n",
        "\n",
        "      MD_1 = abs(LM - RM)\n",
        "\n",
        "      holds_data = [[LM, LSD, LSK, LK, RM, RSD, RSK, RK, MD_1, stat]]\n",
        "\n",
        "      hdf = pd.DataFrame(holds_data, columns = holds_names)\n",
        "      holds = holds.append(hdf)\n",
        "      holds['Index'] = range(1, len(holds) + 1)\n",
        "      holds.set_index('Index', inplace=True, drop=True)\n",
        "\n",
        "      latll = pd.to_numeric(df1[df1[5] == 'LL'][6], errors='coerce')\n",
        "      latll = latll.dropna()\n",
        "      latll = np.array(latll)\n",
        "      latll = np.clip(latll, 50, 800)\n",
        "\n",
        "      LLM = np.mean(latll)\n",
        "      LLSD = np.std(latll)\n",
        "      LLSK = scipy.stats.skew(latll)\n",
        "      LLK = scipy.stats.kurtosis(latll)\n",
        "\n",
        "      latlr = pd.to_numeric(df1[df1[5] == 'LR'][6], errors='coerce')\n",
        "      latlr = latlr.dropna()\n",
        "      latlr = np.array(latlr)\n",
        "      latlr = np.clip(latlr, 50, 800)\n",
        "\n",
        "      LRM = np.mean(latlr)\n",
        "      LRSD = np.std(latlr)\n",
        "      LRSK = scipy.stats.skew(latlr)\n",
        "      LRK = scipy.stats.kurtosis(latlr)\n",
        "\n",
        "      latrr = pd.to_numeric(df1[df1[5] == 'RR'][6], errors='coerce')\n",
        "      latrr = latrr.dropna()\n",
        "      latrr = np.array(latrr)\n",
        "      latrr = np.clip(latrr, 50, 800)\n",
        "\n",
        "      RRM = np.mean(latrr)\n",
        "      RRSD = np.std(latrr)\n",
        "      RRSK = scipy.stats.skew(latrr)\n",
        "      RRK = scipy.stats.kurtosis(latrr)\n",
        "\n",
        "      latrl = pd.to_numeric(df1[df1[5] == 'RL'][6], errors='coerce')\n",
        "      latrl = latrl.dropna()\n",
        "      latrl = np.array(latrl)\n",
        "      latrl = np.clip(latrl, 50, 800)\n",
        "\n",
        "      RLM = np.mean(latrl)\n",
        "      RLSD = np.std(latrl)\n",
        "      RLSK = scipy.stats.skew(latrl)\n",
        "      RLK = scipy.stats.kurtosis(latrl)\n",
        "\n",
        "      MD_2 = abs(LLM-RRM)\n",
        "      MD_3 = abs(LRM-RLM)\n",
        "\n",
        "      latency_data = [[LLM, LLSD, LLSK, LLK, RRM, RRSD, RRSK, RRK, LRM, LRSD, LRSK, LRK, RLM, RLSD, RLSK, RLK, MD_2, MD_3, stat]]\n",
        "\n",
        "      ldf = pd.DataFrame(latency_data, columns=lat_names)\n",
        "      latency = latency.append(ldf)\n",
        "      latency['Index'] = range(1, len(latency) + 1)\n",
        "      latency.set_index('Index', inplace=True, drop=True)\n",
        "\n",
        "      df1 = pd.DataFrame()\n",
        "  elif \"/content/RSI_Keylogger/Shared drives/RSI_Keylogger/data/Archived_users/User_\"+user+\".txt\" in userss:\n",
        "    with open('output_file.txt', 'w') as outfile:\n",
        "      for fname in filenames:\n",
        "        with open(fname) as infile:\n",
        "          outfile.write(infile.read())\n",
        "    try:  \n",
        "      df2 = pd.read_csv('/content/output_file.txt', header=None, delimiter='\\t', usecols=[0,3,4,5,6])\n",
        "      df1 = df1.append(df2)\n",
        "    except pd.errors.EmptyDataError:\n",
        "      print(fname)\n",
        "      continue\n",
        "    if len(df1) > 1999:\n",
        "      stat = 0\n",
        "\n",
        "      holdl = pd.to_numeric(df1[df1[3] == 'L'][4], errors='coerce')\n",
        "      holdl = holdl.dropna()\n",
        "      holdl = np.array(holdl)\n",
        "      holdl = np.clip(holdl, 60, 140)\n",
        "\n",
        "      LM = np.mean(holdl)\n",
        "      LSD = np.std(holdl)\n",
        "      LSK = scipy.stats.skew(holdl)\n",
        "      LK = scipy.stats.kurtosis(holdl)\n",
        "\n",
        "      holdr = pd.to_numeric(df1[df1[3] == 'R'][4], errors='coerce')\n",
        "      holdr = holdr.dropna()\n",
        "      holdr = np.array(holdr)\n",
        "      holdr = np.clip(holdr, 60, 140)\n",
        "\n",
        "      RM = np.mean(holdr)\n",
        "      RSD = np.std(holdr)\n",
        "      RSK = scipy.stats.skew(holdr)\n",
        "      RK = scipy.stats.kurtosis(holdr)\n",
        "\n",
        "      MD_1 = abs(LM - RM)\n",
        "\n",
        "      holds_data = [[LM, LSD, LSK, LK, RM, RSD, RSK, RK, MD_1, stat]]\n",
        "\n",
        "      hdf = pd.DataFrame(holds_data, columns = holds_names)\n",
        "      holds = holds.append(hdf)\n",
        "      holds['Index'] = range(1, len(holds) + 1)\n",
        "      holds.set_index('Index', inplace=True, drop=True)\n",
        "\n",
        "      latll = pd.to_numeric(df1[df1[5] == 'LL'][6], errors='coerce')\n",
        "      latll = latll.dropna()\n",
        "      latll = np.array(latll)\n",
        "      latll = np.clip(latll, 50, 800)\n",
        "\n",
        "      LLM = np.mean(latll)\n",
        "      LLSD = np.std(latll)\n",
        "      LLSK = scipy.stats.skew(latll)\n",
        "      LLK = scipy.stats.kurtosis(latll)\n",
        "\n",
        "      latlr = pd.to_numeric(df1[df1[5] == 'LR'][6], errors='coerce')\n",
        "      latlr = latlr.dropna()\n",
        "      latlr = np.array(latlr)\n",
        "      latlr = np.clip(latlr, 50, 800)\n",
        "\n",
        "      LRM = np.mean(latlr)\n",
        "      LRSD = np.std(latlr)\n",
        "      LRSK = scipy.stats.skew(latlr)\n",
        "      LRK = scipy.stats.kurtosis(latlr)\n",
        "\n",
        "      latrr = pd.to_numeric(df1[df1[5] == 'RR'][6], errors='coerce')\n",
        "      latrr = latrr.dropna()\n",
        "      latrr = np.array(latrr)\n",
        "      latrr = np.clip(latrr, 50, 800)\n",
        "\n",
        "      RRM = np.mean(latrr)\n",
        "      RRSD = np.std(latrr)\n",
        "      RRSK = scipy.stats.skew(latrr)\n",
        "      RRK = scipy.stats.kurtosis(latrr)\n",
        "\n",
        "      latrl = pd.to_numeric(df1[df1[5] == 'RL'][6], errors='coerce')\n",
        "      latrl = latrl.dropna()\n",
        "      latrl = np.array(latrl)\n",
        "      latrl = np.clip(latrl, 50, 800)\n",
        "\n",
        "      RLM = np.mean(latrl)\n",
        "      RLSD = np.std(latrl)\n",
        "      RLSK = scipy.stats.skew(latrl)\n",
        "      RLK = scipy.stats.kurtosis(latrl)\n",
        "\n",
        "      MD_2 = abs(LLM-RRM)\n",
        "      MD_3 = abs(LRM-RLM)\n",
        "\n",
        "      latency_data = [[LLM, LLSD, LLSK, LLK, RRM, RRSD, RRSK, RRK, LRM, LRSD, LRSK, LRK, RLM, RLSD, RLSK, RLK, MD_2, MD_3, stat]]\n",
        "\n",
        "      ldf = pd.DataFrame(latency_data, columns=lat_names)\n",
        "      latency = latency.append(ldf)\n",
        "      latency['Index'] = range(1, len(latency) + 1)\n",
        "      latency.set_index('Index', inplace=True, drop=True)\n",
        "\n",
        "      df1 = pd.DataFrame()\n",
        "  else:\n",
        "    df1 = pd.DataFrame()"
      ],
      "execution_count": null,
      "outputs": [
        {
          "output_type": "stream",
          "text": [
            "/content/RSI_Keylogger/Shared drives/RSI_Keylogger/data/Tappy_Data/0QAZFRHQHW_1610.txt\n",
            "/content/RSI_Keylogger/Shared drives/RSI_Keylogger/data/Tappy_Data/4XPHKKBXS6_1609.txt\n"
          ],
          "name": "stdout"
        },
        {
          "output_type": "stream",
          "text": [
            "/usr/local/lib/python3.6/dist-packages/IPython/core/interactiveshell.py:2718: DtypeWarning: Columns (4,6) have mixed types.Specify dtype option on import or set low_memory=False.\n",
            "  interactivity=interactivity, compiler=compiler, result=result)\n",
            "/usr/local/lib/python3.6/dist-packages/IPython/core/interactiveshell.py:2718: DtypeWarning: Columns (4) have mixed types.Specify dtype option on import or set low_memory=False.\n",
            "  interactivity=interactivity, compiler=compiler, result=result)\n",
            "/usr/local/lib/python3.6/dist-packages/IPython/core/interactiveshell.py:2718: DtypeWarning: Columns (6) have mixed types.Specify dtype option on import or set low_memory=False.\n",
            "  interactivity=interactivity, compiler=compiler, result=result)\n"
          ],
          "name": "stderr"
        },
        {
          "output_type": "stream",
          "text": [
            "/content/RSI_Keylogger/Shared drives/RSI_Keylogger/data/Tappy_Data/YQSGN9BMVK_1702.txt\n"
          ],
          "name": "stdout"
        }
      ]
    },
    {
      "cell_type": "markdown",
      "metadata": {
        "id": "fIj70oXgHHIv",
        "colab_type": "text"
      },
      "source": [
        "We first create two list variables, holds_names and lat_names, to store the name of the headings for our two dataframes, holds and latency. This is done to improve the readability of our code. \n",
        "\n",
        "Next, we create two sets of variables, two lists: holds_data and latency_data. holds_data is created to store an instance of our 9 features (the skewness, kurtosis, standard deviation and mean for L and R, as well as the absolute mean difference between them) for the holds dataframe. latency_data, much like holds_data, stores our features (18 rather than 9, them being the skewness, kurtosis, standard deviation and mean for a pair of LL, RR, RL and LR, along with the absolute mean difference between LL and RR, and RL and LR)\n",
        "\n",
        "We, then, create six DataFrame variables – hdf, ldf, df1, df2, holds, and latency. hdf is created to store holds_data's values as a DataFrame and ldf has the same function, but instead for latency_data. df2 stores the an instance of a text file in Archived users who match our criteria while df1 stores every text file associated with a particular user who match our criteria. holds stores all the 9 features for a user who matches our criteria while latency stores 18 features.\n",
        "\n",
        "We first create a `for loop` where we cycle through every user in our users list.\n",
        "\n",
        "We create a variable, filenames, to store the list of files in Tappy Data. We then check them using an `if statement`. \n",
        "\n",
        "If they contain a username in userrs, then we proceed onwards. If not, then the loop runs again until a username contained in userrs is found. \n",
        "\n",
        "If the condition is true, we create a new file, output_file.txt, using the `with open` method. This is done to store all the values of the text files in Tappy Data in one location. To access output_file easily, and read and write to it, we create a TextIOWrapper, outfile,  We then create a `nested for loop` where we iterate every user in filenames who match our condition as another TextIOWrapper called infile. We read the now opened infile using the `read` method, and write its contents to outfile using the `write` method. This allows the data to be written concretely in output_file.txt. \n",
        "\n",
        "We, now exit this second `for loop` and append the data present in output_file to df2. We also crucically add in the argument, `header=None, delimiter='\\t', usecols=[0,3,4,5,6]` for many reasons. Header=None is added as there are no headers in our text files, delimiter='\\t' is added as the delimiter in this case is a tab, and usecols is added as we only need the 1st, 4th, 5th, 6th and 7th columns and using the other columns would use a lot of unnecessary memory.\n",
        "\n",
        " df2's data is quickly appened to df1. The reason we can't directly append output_file's data to df1 directly is because with every increment of the for loop, data would be lost, so we have to store this data in with the help of two DataFrames.\n",
        "\n",
        "After all the text files associated with a user are appended into df1, we check it's length using another `if statement`. If the number of rows is atleast 2000, only then do we proceed onwards to the feature extraction process. Otherwise, we clear the data of the DataFrames and start again. \n",
        "\n",
        "If the data has at least 2000 rows, then we use the `to_numeric` method to convert the 5th column of our DataFrame into a numeric type, provided that the 4th column is 'L'. We store this numeric in holdl, a local variable that calculates our required features. We also add in argument, `errors=coerce` to convert any non numeric value into a NaN (Not a Number) and remove these erroneous rows using the `dropna` method. \n",
        "\n",
        "We repeat this process to retrive the features for the Right keystrokes, calculate the absolute mean difference, and finally store these values into holds_data. We convert this data into a DataFrame by using the `read_csv` method and store it in hdf, and append the hdf DataFrame to the holds DataFrame. \n",
        "\n",
        "Finally, we repeat this process for the latency DataFrame with a few key changes:\n",
        "\n",
        "1) We check 6th row rather than the 4th row, \n",
        "\n",
        "2) We convert the 7th row to a numeric value rather than the 5th row, and\n",
        "\n",
        "3) We store the values in different variables.\n",
        "\n",
        "Now, finally, we can refresh the value of the df1 DataFrame to null so that no repeat data is accidently added and we are done!\n",
        "\n",
        "Note: Python counts the each column and row starting with 0 rather than 1 which is why when I, say, write 0 column in my code, I call it the first column. In other words:\n",
        "\n",
        "0th column is the first column to us."
      ]
    },
    {
      "cell_type": "code",
      "metadata": {
        "id": "iesq17aGEWM9",
        "colab_type": "code",
        "colab": {}
      },
      "source": [
        "from sklearn.discriminant_analysis import LinearDiscriminantAnalysis as LDA\n",
        "from matplotlib import pyplot as plt\n",
        "import seaborn as sns"
      ],
      "execution_count": null,
      "outputs": []
    },
    {
      "cell_type": "code",
      "metadata": {
        "id": "AHpTA6bTT9W5",
        "colab_type": "code",
        "colab": {}
      },
      "source": [
        "from sklearn.preprocessing import StandardScaler\n",
        "scaler = StandardScaler() "
      ],
      "execution_count": null,
      "outputs": []
    },
    {
      "cell_type": "code",
      "metadata": {
        "id": "DDj_7ZBERg40",
        "colab_type": "code",
        "colab": {}
      },
      "source": [
        "lda = LDA(n_components=1)\n",
        "X = holds.iloc[:, 0:8].values\n",
        "y = holds.iloc[:, 9].values\n",
        "y = y.astype('int')"
      ],
      "execution_count": null,
      "outputs": []
    },
    {
      "cell_type": "code",
      "metadata": {
        "id": "k-fDN9Ow7LL1",
        "colab_type": "code",
        "colab": {}
      },
      "source": [
        "from sklearn.model_selection import train_test_split"
      ],
      "execution_count": null,
      "outputs": []
    },
    {
      "cell_type": "code",
      "metadata": {
        "id": "HDhbQKHR8PO-",
        "colab_type": "code",
        "colab": {}
      },
      "source": [
        "X_train, X_test, y_train, y_test = train_test_split(X, y, train_size=0.65,test_size=0.35)"
      ],
      "execution_count": null,
      "outputs": []
    },
    {
      "cell_type": "code",
      "metadata": {
        "id": "pikrJFgB_WvQ",
        "colab_type": "code",
        "colab": {}
      },
      "source": [
        "normalized_X_train = scaler.fit_transform(X_train)\n",
        "normalized_X_test = scaler.transform(X_test)"
      ],
      "execution_count": null,
      "outputs": []
    },
    {
      "cell_type": "code",
      "metadata": {
        "id": "Je43rksGWTuR",
        "colab_type": "code",
        "colab": {}
      },
      "source": [
        "from sklearn.decomposition import PCA"
      ],
      "execution_count": null,
      "outputs": []
    },
    {
      "cell_type": "code",
      "metadata": {
        "id": "tVnbcexsZq3_",
        "colab_type": "code",
        "colab": {}
      },
      "source": [
        "pca = PCA(n_components=2)\n",
        "pca_X_train = pca.fit_transform(normalized_X_train)\n",
        "pca_X_test = pca.transform(normalized_X_test)"
      ],
      "execution_count": null,
      "outputs": []
    },
    {
      "cell_type": "code",
      "metadata": {
        "id": "AU9DAdMfaWm5",
        "colab_type": "code",
        "colab": {}
      },
      "source": [
        "lda_X_train = lda.fit_transform(normalized_X_train, y_train)\n",
        "lda_X_test = lda.transform(normalized_X_test)"
      ],
      "execution_count": null,
      "outputs": []
    },
    {
      "cell_type": "code",
      "metadata": {
        "id": "RG6YDHJfeitF",
        "colab_type": "code",
        "colab": {}
      },
      "source": [
        "from sklearn.ensemble import RandomForestClassifier"
      ],
      "execution_count": null,
      "outputs": []
    },
    {
      "cell_type": "code",
      "metadata": {
        "id": "4zV2Vwfeekqk",
        "colab_type": "code",
        "colab": {}
      },
      "source": [
        "RFC = RandomForestClassifier(max_depth=2, random_state=0)\n",
        "RFC.fit(pca_X_train, y_train)\n",
        "rfc_pred = RFC.predict(pca_X_test)"
      ],
      "execution_count": null,
      "outputs": []
    },
    {
      "cell_type": "code",
      "metadata": {
        "id": "EOKNXpLWe0h-",
        "colab_type": "code",
        "colab": {
          "base_uri": "https://localhost:8080/",
          "height": 69
        },
        "outputId": "e6999cdb-e10e-4a32-d601-d16a7d63a25f"
      },
      "source": [
        "from sklearn.metrics import confusion_matrix\n",
        "from sklearn.metrics import accuracy_score\n",
        "\n",
        "rfc_cm = confusion_matrix(y_test, rfc_pred)\n",
        "print(rfc_cm)\n",
        "print('Accuracy' + str(accuracy_score(y_test, rfc_pred)))"
      ],
      "execution_count": null,
      "outputs": [
        {
          "output_type": "stream",
          "text": [
            "[[ 7  0]\n",
            " [11  1]]\n",
            "Accuracy0.42105263157894735\n"
          ],
          "name": "stdout"
        }
      ]
    },
    {
      "cell_type": "code",
      "metadata": {
        "id": "uif4VaVie-Ir",
        "colab_type": "code",
        "colab": {}
      },
      "source": [
        "RFC2 = RandomForestClassifier(max_depth=2, random_state=0)\n",
        "RFC2.fit(lda_X_train, y_train)\n",
        "rfc_pred2 = RFC2.predict(lda_X_test)"
      ],
      "execution_count": null,
      "outputs": []
    },
    {
      "cell_type": "code",
      "metadata": {
        "id": "TqJanaXefaFX",
        "colab_type": "code",
        "colab": {
          "base_uri": "https://localhost:8080/",
          "height": 69
        },
        "outputId": "c9faef88-bfc9-403e-ba2e-502f3fc150f8"
      },
      "source": [
        "rfc_cm2 = confusion_matrix(y_test, rfc_pred2)\n",
        "print(rfc_cm2)\n",
        "print('Accuracy' + str(accuracy_score(y_test, rfc_pred2)))"
      ],
      "execution_count": null,
      "outputs": [
        {
          "output_type": "stream",
          "text": [
            "[[5 2]\n",
            " [9 3]]\n",
            "Accuracy0.42105263157894735\n"
          ],
          "name": "stdout"
        }
      ]
    },
    {
      "cell_type": "code",
      "metadata": {
        "id": "CUpHox90fmkn",
        "colab_type": "code",
        "colab": {}
      },
      "source": [
        "from sklearn import svm"
      ],
      "execution_count": null,
      "outputs": []
    },
    {
      "cell_type": "code",
      "metadata": {
        "id": "-0UMejwMgWb8",
        "colab_type": "code",
        "colab": {}
      },
      "source": [
        "clf = svm.SVC()\n",
        "clf.fit(pca_X_train, y_train)\n",
        "clf_pred = clf.predict(pca_X_test)"
      ],
      "execution_count": null,
      "outputs": []
    },
    {
      "cell_type": "code",
      "metadata": {
        "id": "CT_bAsudjOaV",
        "colab_type": "code",
        "colab": {
          "base_uri": "https://localhost:8080/",
          "height": 69
        },
        "outputId": "5fd1f61a-1476-482b-954f-b1274951cbce"
      },
      "source": [
        "clf_cm = confusion_matrix(y_test, clf_pred)\n",
        "print(clf_cm)\n",
        "print('Accuracy' + str(accuracy_score(y_test, clf_pred)))"
      ],
      "execution_count": null,
      "outputs": [
        {
          "output_type": "stream",
          "text": [
            "[[ 7  0]\n",
            " [12  0]]\n",
            "Accuracy0.3684210526315789\n"
          ],
          "name": "stdout"
        }
      ]
    },
    {
      "cell_type": "code",
      "metadata": {
        "id": "e5xCR5w2jy59",
        "colab_type": "code",
        "colab": {}
      },
      "source": [
        "clf2 = svm.SVC()\n",
        "clf2.fit(lda_X_train, y_train)\n",
        "clf_pred2 = clf2.predict(lda_X_test)"
      ],
      "execution_count": null,
      "outputs": []
    },
    {
      "cell_type": "code",
      "metadata": {
        "id": "4bjkuESAkDr_",
        "colab_type": "code",
        "colab": {
          "base_uri": "https://localhost:8080/",
          "height": 69
        },
        "outputId": "c44961c2-5b3a-4f90-f8ee-b1a50ad9d3c7"
      },
      "source": [
        "clf_cm2 = confusion_matrix(y_test, clf_pred2)\n",
        "print(clf_cm2)\n",
        "print('Accuracy' + str(accuracy_score(y_test, clf_pred2)))"
      ],
      "execution_count": null,
      "outputs": [
        {
          "output_type": "stream",
          "text": [
            "[[ 6  1]\n",
            " [11  1]]\n",
            "Accuracy0.3684210526315789\n"
          ],
          "name": "stdout"
        }
      ]
    },
    {
      "cell_type": "code",
      "metadata": {
        "id": "HDxcq168khJ9",
        "colab_type": "code",
        "colab": {}
      },
      "source": [
        "from sklearn.neural_network import MLPClassifier"
      ],
      "execution_count": null,
      "outputs": []
    },
    {
      "cell_type": "code",
      "metadata": {
        "id": "McNBc4rqm-w7",
        "colab_type": "code",
        "colab": {
          "base_uri": "https://localhost:8080/",
          "height": 72
        },
        "outputId": "dbe159e9-3778-4a93-9772-e80eae0e41b1"
      },
      "source": [
        "mlp = MLPClassifier(hidden_layer_sizes=(150,100,50), max_iter=300,activation = 'relu',solver='adam',random_state=1)\n",
        "mlp.fit(pca_X_train, y_train)\n",
        "mlp_pred = mlp.predict(pca_X_test)"
      ],
      "execution_count": null,
      "outputs": [
        {
          "output_type": "stream",
          "text": [
            "/usr/local/lib/python3.6/dist-packages/sklearn/neural_network/_multilayer_perceptron.py:571: ConvergenceWarning: Stochastic Optimizer: Maximum iterations (300) reached and the optimization hasn't converged yet.\n",
            "  % self.max_iter, ConvergenceWarning)\n"
          ],
          "name": "stderr"
        }
      ]
    },
    {
      "cell_type": "code",
      "metadata": {
        "id": "SyRAJ46Nn7gu",
        "colab_type": "code",
        "colab": {
          "base_uri": "https://localhost:8080/",
          "height": 69
        },
        "outputId": "5937c1e5-1742-4e58-eeb2-76f40ca8fd1b"
      },
      "source": [
        "mlp_cm = confusion_matrix(y_test, mlp_pred)\n",
        "print(mlp_cm)\n",
        "print('Accuracy' + str(accuracy_score(y_test, mlp_pred)))"
      ],
      "execution_count": null,
      "outputs": [
        {
          "output_type": "stream",
          "text": [
            "[[ 7  0]\n",
            " [11  1]]\n",
            "Accuracy0.42105263157894735\n"
          ],
          "name": "stdout"
        }
      ]
    },
    {
      "cell_type": "code",
      "metadata": {
        "id": "EvHzp6I0oOrY",
        "colab_type": "code",
        "colab": {
          "base_uri": "https://localhost:8080/",
          "height": 72
        },
        "outputId": "69a19586-1c7a-4de6-a8f5-9871a0845a9d"
      },
      "source": [
        "mlp2 = MLPClassifier(hidden_layer_sizes=(150,100,50), max_iter=300,activation = 'relu',solver='adam',random_state=1)\n",
        "mlp2.fit(lda_X_train, y_train)\n",
        "mlp_pred2 = mlp2.predict(lda_X_test)"
      ],
      "execution_count": null,
      "outputs": [
        {
          "output_type": "stream",
          "text": [
            "/usr/local/lib/python3.6/dist-packages/sklearn/neural_network/_multilayer_perceptron.py:571: ConvergenceWarning: Stochastic Optimizer: Maximum iterations (300) reached and the optimization hasn't converged yet.\n",
            "  % self.max_iter, ConvergenceWarning)\n"
          ],
          "name": "stderr"
        }
      ]
    },
    {
      "cell_type": "code",
      "metadata": {
        "id": "1xmV3XTZoc8g",
        "colab_type": "code",
        "colab": {
          "base_uri": "https://localhost:8080/",
          "height": 69
        },
        "outputId": "e7d2b3fb-1be4-40a6-ac76-436acb49da95"
      },
      "source": [
        "mlp_cm2 = confusion_matrix(y_test, mlp_pred2)\n",
        "print(mlp_cm2)\n",
        "print('Accuracy' + str(accuracy_score(y_test, mlp_pred2)))"
      ],
      "execution_count": null,
      "outputs": [
        {
          "output_type": "stream",
          "text": [
            "[[6 1]\n",
            " [9 3]]\n",
            "Accuracy0.47368421052631576\n"
          ],
          "name": "stdout"
        }
      ]
    },
    {
      "cell_type": "code",
      "metadata": {
        "id": "Nnz7oCPIojqm",
        "colab_type": "code",
        "colab": {}
      },
      "source": [
        "from sklearn.neighbors import KNeighborsClassifier"
      ],
      "execution_count": null,
      "outputs": []
    },
    {
      "cell_type": "code",
      "metadata": {
        "id": "YqFf6CaCuSOu",
        "colab_type": "code",
        "colab": {}
      },
      "source": [
        "knn = KNeighborsClassifier(n_neighbors=3)\n",
        "knn.fit(pca_X_train, y_train)\n",
        "knn_pred = knn.predict(pca_X_test)"
      ],
      "execution_count": null,
      "outputs": []
    },
    {
      "cell_type": "code",
      "metadata": {
        "id": "PdqPoFC6uw4f",
        "colab_type": "code",
        "colab": {
          "base_uri": "https://localhost:8080/",
          "height": 69
        },
        "outputId": "f05be6fd-2d7c-46a1-e4b7-a44d7d8e6b2c"
      },
      "source": [
        "knn_cm = confusion_matrix(y_test, knn_pred)\n",
        "print(knn_cm)\n",
        "print('Accuracy' + str(accuracy_score(y_test, knn_pred)))"
      ],
      "execution_count": null,
      "outputs": [
        {
          "output_type": "stream",
          "text": [
            "[[ 7  0]\n",
            " [11  1]]\n",
            "Accuracy0.42105263157894735\n"
          ],
          "name": "stdout"
        }
      ]
    },
    {
      "cell_type": "code",
      "metadata": {
        "id": "4l_BU88Ju0DG",
        "colab_type": "code",
        "colab": {}
      },
      "source": [
        "knn2 = KNeighborsClassifier(n_neighbors=3)\n",
        "knn2.fit(lda_X_train, y_train)\n",
        "knn_pred2 = knn2.predict(lda_X_test)"
      ],
      "execution_count": null,
      "outputs": []
    },
    {
      "cell_type": "code",
      "metadata": {
        "id": "S3gUyUbWu504",
        "colab_type": "code",
        "colab": {
          "base_uri": "https://localhost:8080/",
          "height": 69
        },
        "outputId": "3b584d1b-b2eb-433a-f0ab-19227fd99d2c"
      },
      "source": [
        "knn_cm2 = confusion_matrix(y_test, knn_pred2)\n",
        "print(knn_cm2)\n",
        "print('Accuracy' + str(accuracy_score(y_test, knn_pred2)))"
      ],
      "execution_count": null,
      "outputs": [
        {
          "output_type": "stream",
          "text": [
            "[[5 2]\n",
            " [9 3]]\n",
            "Accuracy0.42105263157894735\n"
          ],
          "name": "stdout"
        }
      ]
    },
    {
      "cell_type": "code",
      "metadata": {
        "id": "lyv4yYemvYgZ",
        "colab_type": "code",
        "colab": {}
      },
      "source": [
        "from sklearn.linear_model import LogisticRegression"
      ],
      "execution_count": null,
      "outputs": []
    },
    {
      "cell_type": "code",
      "metadata": {
        "id": "orKi8wuE3rVO",
        "colab_type": "code",
        "colab": {}
      },
      "source": [
        "lrm = LogisticRegression()\n",
        "lrm.fit(pca_X_train, y_train)\n",
        "lrm_pred=lrm.predict(pca_X_test)"
      ],
      "execution_count": null,
      "outputs": []
    },
    {
      "cell_type": "code",
      "metadata": {
        "id": "vF-4FaYe4qEE",
        "colab_type": "code",
        "colab": {
          "base_uri": "https://localhost:8080/",
          "height": 69
        },
        "outputId": "c6e1c763-741a-48b4-de29-758462226ff6"
      },
      "source": [
        "lrm_cm = confusion_matrix(y_test, lrm_pred)\n",
        "print(lrm_cm)\n",
        "print('Accuracy' + str(accuracy_score(y_test, lrm_pred)))"
      ],
      "execution_count": null,
      "outputs": [
        {
          "output_type": "stream",
          "text": [
            "[[ 7  0]\n",
            " [12  0]]\n",
            "Accuracy0.3684210526315789\n"
          ],
          "name": "stdout"
        }
      ]
    },
    {
      "cell_type": "code",
      "metadata": {
        "id": "PtcAdQCK4t5K",
        "colab_type": "code",
        "colab": {}
      },
      "source": [
        "lrm2 = LogisticRegression()\n",
        "lrm2.fit(lda_X_train, y_train)\n",
        "lrm_pred2=lrm2.predict(lda_X_test)"
      ],
      "execution_count": null,
      "outputs": []
    },
    {
      "cell_type": "code",
      "metadata": {
        "id": "NxS-I5Oq44di",
        "colab_type": "code",
        "colab": {
          "base_uri": "https://localhost:8080/",
          "height": 69
        },
        "outputId": "622dd017-1e16-4b43-a400-c59afb85c4fa"
      },
      "source": [
        "lrm_cm2 = confusion_matrix(y_test, lrm_pred2)\n",
        "print(lrm_cm2)\n",
        "print('Accuracy' + str(accuracy_score(y_test, lrm_pred2)))"
      ],
      "execution_count": null,
      "outputs": [
        {
          "output_type": "stream",
          "text": [
            "[[5 2]\n",
            " [9 3]]\n",
            "Accuracy0.42105263157894735\n"
          ],
          "name": "stdout"
        }
      ]
    },
    {
      "cell_type": "code",
      "metadata": {
        "id": "wJE4LAQV5Pr3",
        "colab_type": "code",
        "colab": {}
      },
      "source": [
        "from sklearn.svm import NuSVC"
      ],
      "execution_count": null,
      "outputs": []
    },
    {
      "cell_type": "code",
      "metadata": {
        "id": "_gzFdmWW5gaM",
        "colab_type": "code",
        "colab": {}
      },
      "source": [
        "nu = NuSVC()\n",
        "nu.fit(pca_X_train, y_train)\n",
        "nu_pred = nu.predict(pca_X_test)"
      ],
      "execution_count": null,
      "outputs": []
    },
    {
      "cell_type": "code",
      "metadata": {
        "id": "Fae5NN1O_dNZ",
        "colab_type": "code",
        "colab": {
          "base_uri": "https://localhost:8080/",
          "height": 69
        },
        "outputId": "5fde8770-1fa3-4c9d-b6a7-9d8fbbc7c214"
      },
      "source": [
        "nu_cm = confusion_matrix(y_test, nu_pred)\n",
        "print(nu_cm)\n",
        "print('Accuracy' + str(accuracy_score(y_test, nu_pred)))"
      ],
      "execution_count": null,
      "outputs": [
        {
          "output_type": "stream",
          "text": [
            "[[ 7  0]\n",
            " [10  2]]\n",
            "Accuracy0.47368421052631576\n"
          ],
          "name": "stdout"
        }
      ]
    },
    {
      "cell_type": "code",
      "metadata": {
        "id": "Uvju_7MU_gso",
        "colab_type": "code",
        "colab": {}
      },
      "source": [
        "nu2 = NuSVC()\n",
        "nu2.fit(lda_X_train, y_train)\n",
        "nu_pred2 = nu2.predict(lda_X_test)"
      ],
      "execution_count": null,
      "outputs": []
    },
    {
      "cell_type": "code",
      "metadata": {
        "id": "sLkyJXLc_nrv",
        "colab_type": "code",
        "colab": {
          "base_uri": "https://localhost:8080/",
          "height": 69
        },
        "outputId": "abd235eb-442b-497b-d661-944e587edf90"
      },
      "source": [
        "nu_cm2 = confusion_matrix(y_test, nu_pred2)\n",
        "print(nu_cm2)\n",
        "print('Accuracy' + str(accuracy_score(y_test, nu_pred2)))"
      ],
      "execution_count": null,
      "outputs": [
        {
          "output_type": "stream",
          "text": [
            "[[ 6  1]\n",
            " [11  1]]\n",
            "Accuracy0.3684210526315789\n"
          ],
          "name": "stdout"
        }
      ]
    },
    {
      "cell_type": "code",
      "metadata": {
        "id": "KRaOn89u_q-x",
        "colab_type": "code",
        "colab": {}
      },
      "source": [
        "from sklearn.tree import DecisionTreeClassifier"
      ],
      "execution_count": null,
      "outputs": []
    },
    {
      "cell_type": "code",
      "metadata": {
        "id": "itcvFijs_40q",
        "colab_type": "code",
        "colab": {}
      },
      "source": [
        "dtc = DecisionTreeClassifier()\n",
        "dtc.fit(pca_X_train, y_train)\n",
        "dtc_pred = dtc.predict(pca_X_test)"
      ],
      "execution_count": null,
      "outputs": []
    },
    {
      "cell_type": "code",
      "metadata": {
        "id": "V9_QDGVaFYCR",
        "colab_type": "code",
        "colab": {
          "base_uri": "https://localhost:8080/",
          "height": 69
        },
        "outputId": "85fcf6dc-284e-4090-e690-220a3ed0355e"
      },
      "source": [
        "dtc_cm = confusion_matrix(y_test, dtc_pred)\n",
        "print(dtc_cm)\n",
        "print('Accuracy' + str(accuracy_score(y_test, dtc_pred)))"
      ],
      "execution_count": null,
      "outputs": [
        {
          "output_type": "stream",
          "text": [
            "[[ 4  3]\n",
            " [11  1]]\n",
            "Accuracy0.2631578947368421\n"
          ],
          "name": "stdout"
        }
      ]
    },
    {
      "cell_type": "code",
      "metadata": {
        "id": "ksDLymohFeIU",
        "colab_type": "code",
        "colab": {}
      },
      "source": [
        "dtc2 = DecisionTreeClassifier()\n",
        "dtc2.fit(lda_X_train, y_train)\n",
        "dtc_pred2 = dtc2.predict(lda_X_test)"
      ],
      "execution_count": null,
      "outputs": []
    },
    {
      "cell_type": "code",
      "metadata": {
        "id": "X1j5c-BZFlRw",
        "colab_type": "code",
        "colab": {
          "base_uri": "https://localhost:8080/",
          "height": 69
        },
        "outputId": "7cba262b-ce48-4ea1-dc96-a56edac849d4"
      },
      "source": [
        "dtc_cm2 = confusion_matrix(y_test, dtc_pred2)\n",
        "print(dtc_cm2)\n",
        "print('Accuracy' + str(accuracy_score(y_test, dtc_pred2)))"
      ],
      "execution_count": null,
      "outputs": [
        {
          "output_type": "stream",
          "text": [
            "[[5 2]\n",
            " [9 3]]\n",
            "Accuracy0.42105263157894735\n"
          ],
          "name": "stdout"
        }
      ]
    },
    {
      "cell_type": "code",
      "metadata": {
        "id": "q3QP_gIfFqN8",
        "colab_type": "code",
        "colab": {}
      },
      "source": [
        "from sklearn.discriminant_analysis import QuadraticDiscriminantAnalysis"
      ],
      "execution_count": null,
      "outputs": []
    },
    {
      "cell_type": "code",
      "metadata": {
        "id": "-HcHMXhlGhZu",
        "colab_type": "code",
        "colab": {}
      },
      "source": [
        "qda = QuadraticDiscriminantAnalysis()\n",
        "qda.fit(pca_X_train, y_train)\n",
        "qda_pred = qda.predict(pca_X_test)"
      ],
      "execution_count": null,
      "outputs": []
    },
    {
      "cell_type": "code",
      "metadata": {
        "id": "NArRkrV-Gv4y",
        "colab_type": "code",
        "colab": {
          "base_uri": "https://localhost:8080/",
          "height": 69
        },
        "outputId": "3b0203f4-6051-46ab-97de-3e2eeafb7162"
      },
      "source": [
        "qda_cm = confusion_matrix(y_test, qda_pred)\n",
        "print(qda_cm)\n",
        "print('Accuracy' + str(accuracy_score(y_test, qda_pred)))"
      ],
      "execution_count": null,
      "outputs": [
        {
          "output_type": "stream",
          "text": [
            "[[ 7  0]\n",
            " [12  0]]\n",
            "Accuracy0.3684210526315789\n"
          ],
          "name": "stdout"
        }
      ]
    },
    {
      "cell_type": "code",
      "metadata": {
        "id": "5OHjbBoSGxMN",
        "colab_type": "code",
        "colab": {}
      },
      "source": [
        "qda2 = QuadraticDiscriminantAnalysis()\n",
        "qda2.fit(lda_X_train, y_train)\n",
        "qda_pred2 = qda2.predict(lda_X_test)"
      ],
      "execution_count": null,
      "outputs": []
    },
    {
      "cell_type": "code",
      "metadata": {
        "id": "KIbOs5yCHDS_",
        "colab_type": "code",
        "colab": {
          "base_uri": "https://localhost:8080/",
          "height": 69
        },
        "outputId": "1b74d527-77aa-490e-8e3e-c50d61bd98af"
      },
      "source": [
        "qda_cm2 = confusion_matrix(y_test, qda_pred2)\n",
        "print(qda_cm2)\n",
        "print('Accuracy' + str(accuracy_score(y_test, qda_pred2)))"
      ],
      "execution_count": null,
      "outputs": [
        {
          "output_type": "stream",
          "text": [
            "[[ 5  2]\n",
            " [10  2]]\n",
            "Accuracy0.3684210526315789\n"
          ],
          "name": "stdout"
        }
      ]
    },
    {
      "cell_type": "code",
      "metadata": {
        "id": "uxFu9P4nVErM",
        "colab_type": "code",
        "colab": {}
      },
      "source": [
        "X2 = latency.iloc[:, 0:17].values\n",
        "y2 = latency.iloc[:, 18].values\n",
        "y2 = y2.astype('int')"
      ],
      "execution_count": null,
      "outputs": []
    },
    {
      "cell_type": "code",
      "metadata": {
        "id": "XOdvqBwruGIS",
        "colab_type": "code",
        "colab": {}
      },
      "source": [
        "X2_train, X2_test, y2_train, y2_test = train_test_split(X2, y2, train_size=0.65,test_size=0.35)"
      ],
      "execution_count": null,
      "outputs": []
    }
  ]
}